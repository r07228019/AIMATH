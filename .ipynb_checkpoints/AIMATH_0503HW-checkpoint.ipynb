{
 "cells": [
  {
   "cell_type": "code",
   "execution_count": 57,
   "metadata": {},
   "outputs": [
    {
     "name": "stdout",
     "output_type": "stream",
     "text": [
      "env: KERAS_BACKEND=tensorflow\n"
     ]
    }
   ],
   "source": [
    "%env KERAS_BACKEND=tensorflow\n",
    "%matplotlib inline\n",
    "\n",
    "import numpy as np\n",
    "import matplotlib.pyplot as plt\n",
    "from keras.datasets import mnist\n",
    "import numpy as np\n",
    "from keras.models import Sequential\n",
    "from keras.layers import Dense, Activation, Flatten\n",
    "from keras.optimizers import SGD, Adam\n",
    "from keras.utils import np_utils\n",
    "from keras.layers import Conv2D, MaxPool2D\n",
    "from keras.optimizers import SGD\n",
    "\n",
    "from keras.models import Model\n",
    "from keras.layers import Input\n",
    "from keras.layers import concatenate, add"
   ]
  },
  {
   "cell_type": "markdown",
   "metadata": {},
   "source": [
    "### 載入資料及整理輸出輸入格式"
   ]
  },
  {
   "cell_type": "code",
   "execution_count": 7,
   "metadata": {},
   "outputs": [],
   "source": [
    "(x_train0, y_train0), (x_test0, y_test0) = mnist.load_data()"
   ]
  },
  {
   "cell_type": "code",
   "execution_count": 8,
   "metadata": {},
   "outputs": [],
   "source": [
    "x_train = x_train0.reshape(60000, 28, 28, 1)\n",
    "x_test = x_test0.reshape(10000, 28, 28, 1)\n",
    "\n",
    "y_train = np_utils.to_categorical(y_train0, 10)\n",
    "y_test = np_utils.to_categorical(y_test0, 10)"
   ]
  },
  {
   "cell_type": "markdown",
   "metadata": {},
   "source": [
    "### 建立CNN model\n",
    "設定3層的CNN，filter依序為3、6、9個，filter大小皆為3x3，激勵函數為relu，每層所接的max-pooling以2x2為單位。<br>\n",
    "扁平化之後放入一般的神經網路，只有一個隱藏層，1000個神經元，激勵函數同為relu，輸出則使用softmax。<br>\n",
    "最後compile時將loss function定為categorical_crossentropy，優化器使用Adam，learning rate = 0.0005<br>\n",
    "後透過訓練資料訓練此模型後進行驗證，可達到97%、98%的正確率。"
   ]
  },
  {
   "cell_type": "code",
   "execution_count": 105,
   "metadata": {},
   "outputs": [],
   "source": [
    "model = Sequential()\n",
    "\n",
    "# first layer\n",
    "model.add(Conv2D(3, (3, 3), padding='same', input_shape=(28, 28, 1)))\n",
    "model.add(Activation('relu'))\n",
    "model.add(MaxPool2D(pool_size=(2,2)))\n",
    "\n",
    "# second layer\n",
    "model.add(Conv2D(6, (3, 3), padding='same', input_shape=(28, 28, 1)))\n",
    "model.add(Activation('relu'))\n",
    "model.add(MaxPool2D(pool_size=(2,2)))\n",
    "\n",
    "# third layer\n",
    "model.add(Conv2D(9, (3, 3), padding='same', input_shape=(28, 28, 1)))\n",
    "model.add(Activation('relu'))\n",
    "model.add(MaxPool2D(pool_size=(2,2)))"
   ]
  },
  {
   "cell_type": "code",
   "execution_count": 106,
   "metadata": {},
   "outputs": [],
   "source": [
    "# 拉平\n",
    "model.add(Flatten())\n",
    "\n",
    "# 送進一般神經網路(1層隱藏層)\n",
    "model.add(Dense(1000))\n",
    "model.add(Activation('relu'))\n",
    "model.add(Dense(10))\n",
    "model.add(Activation('softmax'))\n",
    "\n",
    "model.compile(loss='categorical_crossentropy', optimizer=Adam(lr=0.0005), metrics=['accuracy'])"
   ]
  },
  {
   "cell_type": "code",
   "execution_count": 107,
   "metadata": {},
   "outputs": [
    {
     "name": "stdout",
     "output_type": "stream",
     "text": [
      "_________________________________________________________________\n",
      "Layer (type)                 Output Shape              Param #   \n",
      "=================================================================\n",
      "conv2d_70 (Conv2D)           (None, 28, 28, 3)         30        \n",
      "_________________________________________________________________\n",
      "activation_112 (Activation)  (None, 28, 28, 3)         0         \n",
      "_________________________________________________________________\n",
      "max_pooling2d_70 (MaxPooling (None, 14, 14, 3)         0         \n",
      "_________________________________________________________________\n",
      "conv2d_71 (Conv2D)           (None, 14, 14, 6)         168       \n",
      "_________________________________________________________________\n",
      "activation_113 (Activation)  (None, 14, 14, 6)         0         \n",
      "_________________________________________________________________\n",
      "max_pooling2d_71 (MaxPooling (None, 7, 7, 6)           0         \n",
      "_________________________________________________________________\n",
      "conv2d_72 (Conv2D)           (None, 7, 7, 9)           495       \n",
      "_________________________________________________________________\n",
      "activation_114 (Activation)  (None, 7, 7, 9)           0         \n",
      "_________________________________________________________________\n",
      "max_pooling2d_72 (MaxPooling (None, 3, 3, 9)           0         \n",
      "_________________________________________________________________\n",
      "flatten_24 (Flatten)         (None, 81)                0         \n",
      "_________________________________________________________________\n",
      "dense_47 (Dense)             (None, 1000)              82000     \n",
      "_________________________________________________________________\n",
      "activation_115 (Activation)  (None, 1000)              0         \n",
      "_________________________________________________________________\n",
      "dense_48 (Dense)             (None, 10)                10010     \n",
      "_________________________________________________________________\n",
      "activation_116 (Activation)  (None, 10)                0         \n",
      "=================================================================\n",
      "Total params: 92,703\n",
      "Trainable params: 92,703\n",
      "Non-trainable params: 0\n",
      "_________________________________________________________________\n"
     ]
    }
   ],
   "source": [
    "model.summary()"
   ]
  },
  {
   "cell_type": "code",
   "execution_count": 108,
   "metadata": {},
   "outputs": [
    {
     "name": "stdout",
     "output_type": "stream",
     "text": [
      "Train on 60000 samples, validate on 10000 samples\n",
      "Epoch 1/10\n",
      "60000/60000 [==============================] - 40s 674us/step - loss: 5.4898 - acc: 0.5962 - val_loss: 1.8229 - val_acc: 0.8223\n",
      "Epoch 2/10\n",
      "60000/60000 [==============================] - 38s 633us/step - loss: 1.7589 - acc: 0.8423 - val_loss: 1.7236 - val_acc: 0.8568\n",
      "Epoch 3/10\n",
      "60000/60000 [==============================] - 37s 620us/step - loss: 1.6960 - acc: 0.8634 - val_loss: 1.6782 - val_acc: 0.8711\n",
      "Epoch 4/10\n",
      "60000/60000 [==============================] - 40s 665us/step - loss: 0.6721 - acc: 0.9243 - val_loss: 0.1283 - val_acc: 0.9582\n",
      "Epoch 5/10\n",
      "60000/60000 [==============================] - 53s 881us/step - loss: 0.0987 - acc: 0.9684 - val_loss: 0.0929 - val_acc: 0.9714\n",
      "Epoch 6/10\n",
      "60000/60000 [==============================] - 52s 869us/step - loss: 0.0798 - acc: 0.9739 - val_loss: 0.0895 - val_acc: 0.9709\n",
      "Epoch 7/10\n",
      "60000/60000 [==============================] - 54s 906us/step - loss: 0.0669 - acc: 0.9785 - val_loss: 0.1014 - val_acc: 0.9683\n",
      "Epoch 8/10\n",
      "60000/60000 [==============================] - 50s 830us/step - loss: 0.0581 - acc: 0.9813 - val_loss: 0.0800 - val_acc: 0.9767\n",
      "Epoch 9/10\n",
      "60000/60000 [==============================] - 42s 699us/step - loss: 0.0493 - acc: 0.9841 - val_loss: 0.0960 - val_acc: 0.9733\n",
      "Epoch 10/10\n",
      "60000/60000 [==============================] - 49s 809us/step - loss: 0.0428 - acc: 0.9862 - val_loss: 0.0930 - val_acc: 0.9726\n"
     ]
    }
   ],
   "source": [
    "m_fit = model.fit(x_train, y_train, batch_size=100, epochs=10, verbose=1, validation_data=(x_test, y_test))"
   ]
  },
  {
   "cell_type": "code",
   "execution_count": 109,
   "metadata": {},
   "outputs": [
    {
     "data": {
      "text/plain": [
       "[<matplotlib.lines.Line2D at 0x21c04520a20>]"
      ]
     },
     "execution_count": 109,
     "metadata": {},
     "output_type": "execute_result"
    },
    {
     "data": {
      "image/png": "[encoded data removed]",
      "text/plain": [
       "<Figure size 432x288 with 1 Axes>"
      ]
     },
     "metadata": {},
     "output_type": "display_data"
    }
   ],
   "source": [
    "plt.plot(m_fit.history[\"acc\"])"
   ]
  },
  {
   "cell_type": "code",
   "execution_count": 110,
   "metadata": {},
   "outputs": [
    {
     "name": "stdout",
     "output_type": "stream",
     "text": [
      "10000/10000 [==============================] - 3s 341us/step\n"
     ]
    },
    {
     "data": {
      "text/plain": [
       "[0.09297079792425503, 0.9726]"
      ]
     },
     "execution_count": 110,
     "metadata": {},
     "output_type": "execute_result"
    }
   ],
   "source": [
    "model.evaluate(x_test, y_test)"
   ]
  },
  {
   "cell_type": "code",
   "execution_count": 111,
   "metadata": {},
   "outputs": [],
   "source": [
    "model.save('HW0503model.h5')"
   ]
  }
 ],
 "metadata": {
  "kernelspec": {
   "display_name": "Python 3",
   "language": "python",
   "name": "python3"
  },
  "language_info": {
   "codemirror_mode": {
    "name": "ipython",
    "version": 3
   },
   "file_extension": ".py",
   "mimetype": "text/x-python",
   "name": "python",
   "nbconvert_exporter": "python",
   "pygments_lexer": "ipython3",
   "version": "3.6.4"
  }
 },
 "nbformat": 4,
 "nbformat_minor": 2
}
