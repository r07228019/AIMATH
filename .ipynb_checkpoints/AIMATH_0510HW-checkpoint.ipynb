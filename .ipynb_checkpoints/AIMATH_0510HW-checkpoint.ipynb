{
 "cells": [
  {
   "cell_type": "code",
   "execution_count": 63,
   "metadata": {},
   "outputs": [
    {
     "name": "stdout",
     "output_type": "stream",
     "text": [
      "env: KERAS_BACKEND=tensorflow\n"
     ]
    }
   ],
   "source": [
    "%env KERAS_BACKEND=tensorflow\n",
    "%matplotlib inline\n",
    "\n",
    "import numpy as np\n",
    "import matplotlib.pyplot as plt\n",
    "from keras.datasets import imdb\n",
    "from keras.preprocessing import sequence\n",
    "from keras.models import Sequential\n",
    "from keras.layers import Dense, Embedding\n",
    "from keras.layers import LSTM\n",
    "from keras.optimizers import Adam, SGD, RMSprop"
   ]
  },
  {
   "cell_type": "markdown",
   "metadata": {},
   "source": [
    "## 讀取IMDB資料\n",
    "最常用字數設為5000"
   ]
  },
  {
   "cell_type": "code",
   "execution_count": 85,
   "metadata": {},
   "outputs": [],
   "source": [
    "(x_train, y_train), (x_test, y_test) = imdb.load_data(num_words=5000)"
   ]
  },
  {
   "cell_type": "markdown",
   "metadata": {},
   "source": [
    "看一下train data，平均的長度是239，故maxlen設定為250"
   ]
  },
  {
   "cell_type": "code",
   "execution_count": 86,
   "metadata": {},
   "outputs": [
    {
     "data": {
      "text/plain": [
       "238.71364"
      ]
     },
     "execution_count": 86,
     "metadata": {},
     "output_type": "execute_result"
    }
   ],
   "source": [
    "l = [len(e) for e in x_train]\n",
    "np.mean(l)"
   ]
  },
  {
   "cell_type": "code",
   "execution_count": 87,
   "metadata": {},
   "outputs": [],
   "source": [
    "x_train = sequence.pad_sequences(x_train, maxlen=250)\n",
    "x_test = sequence.pad_sequences(x_test, maxlen=250)"
   ]
  },
  {
   "cell_type": "markdown",
   "metadata": {},
   "source": [
    "## 建立RNN模型\n",
    "設定將文字壓到10維；LSTM有50個神經元"
   ]
  },
  {
   "cell_type": "code",
   "execution_count": 88,
   "metadata": {},
   "outputs": [],
   "source": [
    "N = 10\n",
    "K = 50"
   ]
  },
  {
   "cell_type": "code",
   "execution_count": 89,
   "metadata": {},
   "outputs": [],
   "source": [
    "model = Sequential()\n",
    "model.add(Embedding(5000, N))\n",
    "model.add(LSTM(K))\n",
    "model.add(Dense(1, activation='sigmoid'))"
   ]
  },
  {
   "cell_type": "markdown",
   "metadata": {},
   "source": [
    "優化器選擇常用於RNN的RMSprop，learning rate定為0.005"
   ]
  },
  {
   "cell_type": "code",
   "execution_count": 92,
   "metadata": {},
   "outputs": [],
   "source": [
    "model.compile(loss='binary_crossentropy',\n",
    "             optimizer=RMSprop(lr=0.005),\n",
    "             metrics=['accuracy'])"
   ]
  },
  {
   "cell_type": "markdown",
   "metadata": {},
   "source": [
    "## 以訓練資料訓練\n",
    "batch size=50，重複10次"
   ]
  },
  {
   "cell_type": "code",
   "execution_count": 93,
   "metadata": {},
   "outputs": [
    {
     "name": "stdout",
     "output_type": "stream",
     "text": [
      "Train on 25000 samples, validate on 25000 samples\n",
      "Epoch 1/10\n",
      "25000/25000 [==============================] - 118s 5ms/step - loss: 0.5085 - acc: 0.7522 - val_loss: 0.3791 - val_acc: 0.8376\n",
      "Epoch 2/10\n",
      "25000/25000 [==============================] - 115s 5ms/step - loss: 0.3682 - acc: 0.8474 - val_loss: 0.3294 - val_acc: 0.8644\n",
      "Epoch 3/10\n",
      "25000/25000 [==============================] - 116s 5ms/step - loss: 0.2848 - acc: 0.8855 - val_loss: 0.3245 - val_acc: 0.8658\n",
      "Epoch 4/10\n",
      "25000/25000 [==============================] - 115s 5ms/step - loss: 0.2482 - acc: 0.9002 - val_loss: 0.2846 - val_acc: 0.8804\n",
      "Epoch 5/10\n",
      "25000/25000 [==============================] - 115s 5ms/step - loss: 0.2256 - acc: 0.9131 - val_loss: 0.2759 - val_acc: 0.8851\n",
      "Epoch 6/10\n",
      "25000/25000 [==============================] - 115s 5ms/step - loss: 0.2046 - acc: 0.9214 - val_loss: 0.2783 - val_acc: 0.8889\n",
      "Epoch 7/10\n",
      "25000/25000 [==============================] - 115s 5ms/step - loss: 0.1838 - acc: 0.9294 - val_loss: 0.2860 - val_acc: 0.8866\n",
      "Epoch 8/10\n",
      "25000/25000 [==============================] - 116s 5ms/step - loss: 0.1675 - acc: 0.9379 - val_loss: 0.2968 - val_acc: 0.8830\n",
      "Epoch 9/10\n",
      "25000/25000 [==============================] - 117s 5ms/step - loss: 0.1522 - acc: 0.9439 - val_loss: 0.3074 - val_acc: 0.8850\n",
      "Epoch 10/10\n",
      "25000/25000 [==============================] - 117s 5ms/step - loss: 0.1365 - acc: 0.9506 - val_loss: 0.3307 - val_acc: 0.8800\n"
     ]
    },
    {
     "data": {
      "text/plain": [
       "<keras.callbacks.History at 0x193f27f7fd0>"
      ]
     },
     "execution_count": 93,
     "metadata": {},
     "output_type": "execute_result"
    }
   ],
   "source": [
    "model.fit(x_train, y_train,\n",
    "         batch_size=50,\n",
    "         epochs=10, verbose=1, validation_data=(x_test, y_test))"
   ]
  },
  {
   "cell_type": "markdown",
   "metadata": {},
   "source": [
    "## 進行驗證"
   ]
  },
  {
   "cell_type": "code",
   "execution_count": 94,
   "metadata": {},
   "outputs": [
    {
     "name": "stdout",
     "output_type": "stream",
     "text": [
      "25000/25000 [==============================] - 26s 1ms/step\n"
     ]
    }
   ],
   "source": [
    "s = model.evaluate(x_test, y_test)"
   ]
  },
  {
   "cell_type": "code",
   "execution_count": 95,
   "metadata": {},
   "outputs": [
    {
     "name": "stdout",
     "output_type": "stream",
     "text": [
      "訓練後以驗證資料下去跑的正確率為：87.996\n"
     ]
    }
   ],
   "source": [
    "print(\"訓練後以驗證資料下去跑的正確率為：%s\" %(s[1]*100))"
   ]
  }
 ],
 "metadata": {
  "kernelspec": {
   "display_name": "Python 3",
   "language": "python",
   "name": "python3"
  },
  "language_info": {
   "codemirror_mode": {
    "name": "ipython",
    "version": 3
   },
   "file_extension": ".py",
   "mimetype": "text/x-python",
   "name": "python",
   "nbconvert_exporter": "python",
   "pygments_lexer": "ipython3",
   "version": "3.6.4"
  }
 },
 "nbformat": 4,
 "nbformat_minor": 2
}
