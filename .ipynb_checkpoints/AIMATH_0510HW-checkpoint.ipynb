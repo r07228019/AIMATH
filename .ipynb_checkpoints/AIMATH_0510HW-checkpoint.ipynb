{
 "cells": [
  {
   "cell_type": "code",
   "execution_count": 63,
   "metadata": {},
   "outputs": [
    {
     "name": "stdout",
     "output_type": "stream",
     "text": [
      "env: KERAS_BACKEND=tensorflow\n"
     ]
    }
   ],
   "source": [
    "%env KERAS_BACKEND=tensorflow\n",
    "%matplotlib inline\n",
    "\n",
    "import numpy as np\n",
    "import matplotlib.pyplot as plt\n",
    "from keras.datasets import imdb\n",
    "from keras.preprocessing import sequence\n",
    "from keras.models import Sequential\n",
    "from keras.layers import Dense, Embedding\n",
    "from keras.layers import LSTM\n",
    "from keras.optimizers import Adam, SGD, RMSprop"
   ]
  },
  {
   "cell_type": "markdown",
   "metadata": {},
   "source": [
    "## 讀取IMDB資料\n",
    "最常用字數設為5000"
   ]
  },
  {
   "cell_type": "code",
   "execution_count": 49,
   "metadata": {},
   "outputs": [],
   "source": [
    "(x_train, y_train), (x_test, y_test) = imdb.load_data(num_words=5000)"
   ]
  },
  {
   "cell_type": "markdown",
   "metadata": {},
   "source": [
    "看一下train data，平均的長度是239，故maxlen設定為250"
   ]
  },
  {
   "cell_type": "code",
   "execution_count": 50,
   "metadata": {},
   "outputs": [
    {
     "data": {
      "text/plain": [
       "238.71364"
      ]
     },
     "execution_count": 50,
     "metadata": {},
     "output_type": "execute_result"
    }
   ],
   "source": [
    "l = [len(e) for e in x_train]\n",
    "np.mean(l)"
   ]
  },
  {
   "cell_type": "code",
   "execution_count": 51,
   "metadata": {},
   "outputs": [],
   "source": [
    "x_train = sequence.pad_sequences(x_train, maxlen=250)\n",
    "x_test = sequence.pad_sequences(x_test, maxlen=250)"
   ]
  },
  {
   "cell_type": "markdown",
   "metadata": {},
   "source": [
    "## 建立RNN模型\n",
    "設定將文字壓到10維；LSTM有50個神經元"
   ]
  },
  {
   "cell_type": "code",
   "execution_count": 52,
   "metadata": {},
   "outputs": [],
   "source": [
    "N = 10\n",
    "K = 50"
   ]
  },
  {
   "cell_type": "code",
   "execution_count": 58,
   "metadata": {},
   "outputs": [],
   "source": [
    "model = Sequential()\n",
    "model.add(Embedding(5000, N))\n",
    "model.add(LSTM(K))\n",
    "model.add(Dense(1, activation='sigmoid'))"
   ]
  },
  {
   "cell_type": "markdown",
   "metadata": {},
   "source": [
    "優化器選擇常用於RNN的RMSprop，learning rate定為0.001"
   ]
  },
  {
   "cell_type": "code",
   "execution_count": 59,
   "metadata": {},
   "outputs": [],
   "source": [
    "model.compile(loss='binary_crossentropy',\n",
    "             optimizer=RMSprop(lr=0.001),\n",
    "             metrics=['accuracy'])"
   ]
  },
  {
   "cell_type": "markdown",
   "metadata": {},
   "source": [
    "## 以訓練資料訓練\n",
    "batch size=100，重複10次"
   ]
  },
  {
   "cell_type": "code",
   "execution_count": 60,
   "metadata": {},
   "outputs": [
    {
     "name": "stdout",
     "output_type": "stream",
     "text": [
      "Train on 25000 samples, validate on 25000 samples\n",
      "Epoch 1/10\n",
      "25000/25000 [==============================] - 58s 2ms/step - loss: 0.6478 - acc: 0.7030 - val_loss: 0.5755 - val_acc: 0.7968\n",
      "Epoch 2/10\n",
      "25000/25000 [==============================] - 54s 2ms/step - loss: 0.5215 - acc: 0.8257 - val_loss: 0.4750 - val_acc: 0.8348\n",
      "Epoch 3/10\n",
      "25000/25000 [==============================] - 58s 2ms/step - loss: 0.4078 - acc: 0.8616 - val_loss: 0.3746 - val_acc: 0.8578\n",
      "Epoch 4/10\n",
      "25000/25000 [==============================] - 56s 2ms/step - loss: 0.3210 - acc: 0.8814 - val_loss: 0.3352 - val_acc: 0.8686\n",
      "Epoch 5/10\n",
      "25000/25000 [==============================] - 55s 2ms/step - loss: 0.2791 - acc: 0.8983 - val_loss: 0.3566 - val_acc: 0.8658\n",
      "Epoch 6/10\n",
      "25000/25000 [==============================] - 54s 2ms/step - loss: 0.2599 - acc: 0.9081 - val_loss: 0.3350 - val_acc: 0.8706\n",
      "Epoch 7/10\n",
      "25000/25000 [==============================] - 54s 2ms/step - loss: 0.2509 - acc: 0.9154 - val_loss: 0.3666 - val_acc: 0.8710\n",
      "Epoch 8/10\n",
      "25000/25000 [==============================] - 54s 2ms/step - loss: 0.2407 - acc: 0.9202 - val_loss: 0.3715 - val_acc: 0.8742\n",
      "Epoch 9/10\n",
      "25000/25000 [==============================] - 51s 2ms/step - loss: 0.2352 - acc: 0.9253 - val_loss: 0.7315 - val_acc: 0.8133\n",
      "Epoch 10/10\n",
      "25000/25000 [==============================] - 53s 2ms/step - loss: 0.2247 - acc: 0.9298 - val_loss: 0.4336 - val_acc: 0.8716\n"
     ]
    },
    {
     "data": {
      "text/plain": [
       "<keras.callbacks.History at 0x193f82ce470>"
      ]
     },
     "execution_count": 60,
     "metadata": {},
     "output_type": "execute_result"
    }
   ],
   "source": [
    "model.fit(x_train, y_train,\n",
    "         batch_size=100,\n",
    "         epochs=10, verbose=1, validation_data=(x_test, y_test))"
   ]
  },
  {
   "cell_type": "markdown",
   "metadata": {},
   "source": [
    "## 進行驗證"
   ]
  },
  {
   "cell_type": "code",
   "execution_count": 61,
   "metadata": {},
   "outputs": [
    {
     "name": "stdout",
     "output_type": "stream",
     "text": [
      "25000/25000 [==============================] - 19s 762us/step\n"
     ]
    }
   ],
   "source": [
    "s = model.evaluate(x_test, y_test)"
   ]
  },
  {
   "cell_type": "code",
   "execution_count": 69,
   "metadata": {},
   "outputs": [
    {
     "name": "stdout",
     "output_type": "stream",
     "text": [
      "訓練後以驗證資料下去跑的正確率為：87.156\n"
     ]
    }
   ],
   "source": [
    "print(\"訓練後以驗證資料下去跑的正確率為：%s\" %(s[1]*100))"
   ]
  }
 ],
 "metadata": {
  "kernelspec": {
   "display_name": "Python 3",
   "language": "python",
   "name": "python3"
  },
  "language_info": {
   "codemirror_mode": {
    "name": "ipython",
    "version": 3
   },
   "file_extension": ".py",
   "mimetype": "text/x-python",
   "name": "python",
   "nbconvert_exporter": "python",
   "pygments_lexer": "ipython3",
   "version": "3.6.4"
  }
 },
 "nbformat": 4,
 "nbformat_minor": 2
}
