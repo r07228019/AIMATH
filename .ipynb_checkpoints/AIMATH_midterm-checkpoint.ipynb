{
 "cells": [
  {
   "cell_type": "markdown",
   "metadata": {},
   "source": [
    "#  掌握即將飛往指定機場的航班資訊<br>\n",
    "### 透過爬取flightradar24網站的公開資料，獲得指定機場(由使用者輸入機場代碼)目前正有哪些航班前往，並列出他們的起點、終點還有航班編號，更容易掌握目前機場有些班機即將到來。\n",
    "### 而在互動方面，也利用互動式選單的方式，列出台灣幾個重要機場（桃園、松山、馬公、金門、台中、高雄）來讓使用者可以更方便選取。"
   ]
  },
  {
   "cell_type": "code",
   "execution_count": 29,
   "metadata": {},
   "outputs": [],
   "source": [
    "import requests\n",
    "from bs4 import BeautifulSoup as BS\n",
    "import json\n",
    "import re\n",
    "import pandas as pd\n",
    "from ipywidgets import interact"
   ]
  },
  {
   "cell_type": "code",
   "execution_count": 36,
   "metadata": {},
   "outputs": [],
   "source": [
    "def flights(d = \"TPE\"):\n",
    "    response = requests.get(\"https://data-live.flightradar24.com/zones/fcgi/feed.js?bounds=76.67,-65.03,45.13,-66.31&faa=1&mlat=1&flarm=1&adsb=1&gnd=1&air=1&vehicles=1&estimated=1&maxage=14400&gliders=1&stats=1\", \n",
    "                            headers = {\"user-agent\": \"Mozilla/5.0 (Windows NT 10.0; Win64; x64) AppleWebKit/537.36 (KHTML, like Gecko) Chrome/68.0.3440.106 Safari/537.36\"}, \n",
    "                            params = {\"bounds\": \"76.67,-65.03,45.13,-66.31\", \n",
    "                                      \"faa\": \"1\", \n",
    "                                      \"mlat\": \"1\", \n",
    "                                      \"flarm\": \"1\", \n",
    "                                      \"adsb\": \"1\", \n",
    "                                      \"gnd\": \"1\", \n",
    "                                      \"air\": \"1\", \n",
    "                                      \"vehicles\": \"1\", \n",
    "                                      \"estimated\": \"1\", \n",
    "                                      \"maxage\": \"14400\", \n",
    "                                      \"gliders\": \"1\", \n",
    "                                      \"stats\": \"1\"})\n",
    "    soup = BS(response.text, \"lxml\") # xml, lxml都試試\n",
    "    ps = soup.findAll('p')\n",
    "    planes = ps[0].text\n",
    "    planes_dict = json.loads(planes)\n",
    "    #print(len(re.findall(r'QTR\\w+\"', planes))) # re.findall(r'QTR+\"', planes)\n",
    "    #print(\"\\n\")\n",
    "    try:\n",
    "        result = re.findall('\"\\w+\",\"' + d + '\",\"\\w+\"', planes)\n",
    "        result = [e.replace('\"', '').split(',') for e in result]\n",
    "        df = pd.DataFrame(result, columns = [\"From\", \"To\", \"Flight Number\"])\n",
    "        print(df)\n",
    "        print(\"現在正飛往%s機場的班機共有%d架\" % (d, len(result)))\n",
    "    except:\n",
    "        print(\"目前無班機飛往%s\" % (d))"
   ]
  },
  {
   "cell_type": "markdown",
   "metadata": {},
   "source": [
    "## 以桃園機場為例，利出目前正前往桃園機場的航班資訊"
   ]
  },
  {
   "cell_type": "code",
   "execution_count": 38,
   "metadata": {},
   "outputs": [
    {
     "name": "stdout",
     "output_type": "stream",
     "text": [
      "   From   To Flight Number\n",
      "0   DPS  TPE         BR256\n",
      "1   ICN  TPE         BR159\n",
      "2   NRT  TPE         BR195\n",
      "3   HKG  TPE         BR872\n",
      "4   YVR  TPE          CI31\n",
      "5   NRT  TPE         CI109\n",
      "6   ONT  TPE          CI23\n",
      "7   ROR  TPE          CI27\n",
      "8   MNL  TPE         KL808\n",
      "9   HKG  TPE         CX478\n",
      "10  HAK  TPE         CI524\n",
      "11  KMQ  TPE         BR157\n",
      "12  HAN  TPE         CI794\n",
      "13  CTS  TPE         OD889\n",
      "14  FUK  TPE         CI117\n",
      "現在正飛往TPE機場的班機共有15架\n"
     ]
    }
   ],
   "source": [
    "flights(\"TPE\")"
   ]
  },
  {
   "cell_type": "markdown",
   "metadata": {},
   "source": [
    "## 互動式選單"
   ]
  },
  {
   "cell_type": "code",
   "execution_count": 37,
   "metadata": {},
   "outputs": [
    {
     "data": {
      "application/vnd.jupyter.widget-view+json": {
       "model_id": "835a2990427c4c6db3faa33528526753",
       "version_major": 2,
       "version_minor": 0
      },
      "text/html": [
       "<p>Failed to display Jupyter Widget of type <code>interactive</code>.</p>\n",
       "<p>\n",
       "  If you're reading this message in the Jupyter Notebook or JupyterLab Notebook, it may mean\n",
       "  that the widgets JavaScript is still loading. If this message persists, it\n",
       "  likely means that the widgets JavaScript library is either not installed or\n",
       "  not enabled. See the <a href=\"https://ipywidgets.readthedocs.io/en/stable/user_install.html\">Jupyter\n",
       "  Widgets Documentation</a> for setup instructions.\n",
       "</p>\n",
       "<p>\n",
       "  If you're reading this message in another frontend (for example, a static\n",
       "  rendering on GitHub or <a href=\"https://nbviewer.jupyter.org/\">NBViewer</a>),\n",
       "  it may mean that your frontend doesn't currently support widgets.\n",
       "</p>\n"
      ],
      "text/plain": [
       "interactive(children=(Dropdown(description='d', options=('TPE', 'KHH', 'KNH', 'MZG', 'TSA', 'TXG'), value='TPE'), Output()), _dom_classes=('widget-interact',))"
      ]
     },
     "metadata": {},
     "output_type": "display_data"
    },
    {
     "data": {
      "text/plain": [
       "<function __main__.flights>"
      ]
     },
     "execution_count": 37,
     "metadata": {},
     "output_type": "execute_result"
    }
   ],
   "source": [
    "interact(flights, d = [\"TPE\", \"KHH\", \"KNH\", \"MZG\", \"TSA\", \"TXG\"])"
   ]
  }
 ],
 "metadata": {
  "kernelspec": {
   "display_name": "Python 3",
   "language": "python",
   "name": "python3"
  },
  "language_info": {
   "codemirror_mode": {
    "name": "ipython",
    "version": 3
   },
   "file_extension": ".py",
   "mimetype": "text/x-python",
   "name": "python",
   "nbconvert_exporter": "python",
   "pygments_lexer": "ipython3",
   "version": "3.6.4"
  }
 },
 "nbformat": 4,
 "nbformat_minor": 2
}
