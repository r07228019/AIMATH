{
 "cells": [
  {
   "cell_type": "code",
   "execution_count": 34,
   "metadata": {},
   "outputs": [],
   "source": [
    "from selenium import webdriver\n",
    "from bs4 import BeautifulSoup as BS\n",
    "import pandas as pd\n",
    "from ipywidgets import interact"
   ]
  },
  {
   "cell_type": "markdown",
   "metadata": {},
   "source": [
    "## 定義抓資料函數"
   ]
  },
  {
   "cell_type": "code",
   "execution_count": 35,
   "metadata": {},
   "outputs": [],
   "source": [
    "def forecast(name):\n",
    "    global area_eng, area_chi\n",
    "    try:\n",
    "        area_eng == []\n",
    "    except:\n",
    "        option = webdriver.ChromeOptions()\n",
    "        option.add_argument('--headless')\n",
    "        driver = webdriver.Chrome(chrome_options = option)\n",
    "        url = \"https://www.cwb.gov.tw/V7/forecast/taiwan/Miaoli_County.htm\"\n",
    "        driver.get(url)\n",
    "        source = driver.page_source\n",
    "        driver.close()\n",
    "        soup = BS(source, 'lxml')\n",
    "        area_eng = [e['value'][: -4] for e in soup.findAll('select', {'name': 'menu1'})[0].findAll('option')]\n",
    "        area_chi = [e.text for e in soup.findAll('select', {'name': 'menu1'})[0].findAll('option')]\n",
    "    \n",
    "    option = webdriver.ChromeOptions()\n",
    "    option.add_argument('--headless')\n",
    "    driver = webdriver.Chrome(chrome_options = option)\n",
    "    url = \"https://www.cwb.gov.tw/V7/forecast/taiwan/\" + area_eng[area_chi.index(name)] + \".htm\"\n",
    "    driver.get(url)\n",
    "    source = driver.page_source\n",
    "    driver.close()\n",
    "    \n",
    "    soup = BS(source, 'lxml')\n",
    "    result = soup.findAll('tr')[5].findAll('td')\n",
    "    print(name + \" --> 預測溫度： \" + result[0].text + \"；降雨機率: \" + result[3].text.replace(' ', ''))"
   ]
  },
  {
   "cell_type": "markdown",
   "metadata": {},
   "source": [
    "## Interact"
   ]
  },
  {
   "cell_type": "code",
   "execution_count": 37,
   "metadata": {},
   "outputs": [
    {
     "data": {
      "application/vnd.jupyter.widget-view+json": {
       "model_id": "27ccff32556543da98dd0f4465ab3741",
       "version_major": 2,
       "version_minor": 0
      },
      "text/html": [
       "<p>Failed to display Jupyter Widget of type <code>interactive</code>.</p>\n",
       "<p>\n",
       "  If you're reading this message in the Jupyter Notebook or JupyterLab Notebook, it may mean\n",
       "  that the widgets JavaScript is still loading. If this message persists, it\n",
       "  likely means that the widgets JavaScript library is either not installed or\n",
       "  not enabled. See the <a href=\"https://ipywidgets.readthedocs.io/en/stable/user_install.html\">Jupyter\n",
       "  Widgets Documentation</a> for setup instructions.\n",
       "</p>\n",
       "<p>\n",
       "  If you're reading this message in another frontend (for example, a static\n",
       "  rendering on GitHub or <a href=\"https://nbviewer.jupyter.org/\">NBViewer</a>),\n",
       "  it may mean that your frontend doesn't currently support widgets.\n",
       "</p>\n"
      ],
      "text/plain": [
       "interactive(children=(Dropdown(description='name', options=('臺北市', '新北市', '桃園市', '臺中市', '臺南市', '高雄市', '基隆市', '新竹市', '新竹縣', '苗栗縣', '彰化縣', '南投縣', '雲林縣', '嘉義市', '嘉義縣', '屏東縣', '宜蘭縣', '花蓮縣', '臺東縣', '澎湖縣', '金門縣', '連江縣'), value='臺北市'), Output()), _dom_classes=('widget-interact',))"
      ]
     },
     "metadata": {},
     "output_type": "display_data"
    }
   ],
   "source": [
    "interact(forecast, name = ['臺北市', '新北市', '桃園市', '臺中市', '臺南市', '高雄市', '基隆市', '新竹市', \n",
    "                           '新竹縣', '苗栗縣', '彰化縣', '南投縣', '雲林縣', '嘉義市', '嘉義縣', '屏東縣', \n",
    "                           '宜蘭縣', '花蓮縣', '臺東縣', '澎湖縣', '金門縣', '連江縣']);"
   ]
  }
 ],
 "metadata": {
  "kernelspec": {
   "display_name": "Python 3",
   "language": "python",
   "name": "python3"
  },
  "language_info": {
   "codemirror_mode": {
    "name": "ipython",
    "version": 3
   },
   "file_extension": ".py",
   "mimetype": "text/x-python",
   "name": "python",
   "nbconvert_exporter": "python",
   "pygments_lexer": "ipython3",
   "version": "3.6.4"
  }
 },
 "nbformat": 4,
 "nbformat_minor": 2
}
