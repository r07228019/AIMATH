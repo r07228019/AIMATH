{
 "cells": [
  {
   "cell_type": "code",
   "execution_count": 29,
   "metadata": {},
   "outputs": [],
   "source": [
    "import numpy as np\n",
    "import matplotlib.pyplot as plt\n",
    "from ipywidgets import interact\n",
    "%matplotlib inline"
   ]
  },
  {
   "cell_type": "markdown",
   "metadata": {},
   "source": [
    "## Loss function: y(x) = sin(x) / x"
   ]
  },
  {
   "cell_type": "code",
   "execution_count": 28,
   "metadata": {},
   "outputs": [
    {
     "data": {
      "image/png": "[encoded data removed]",
      "text/plain": [
       "<Figure size 432x288 with 1 Axes>"
      ]
     },
     "metadata": {},
     "output_type": "display_data"
    }
   ],
   "source": [
    "x = np.linspace(1, 15, 100000)\n",
    "y = np.sin(x) / x\n",
    "plt.plot(x, y)\n",
    "plt.xlabel(\"x\", fontsize = 'x-large')\n",
    "plt.ylabel(\"Loss Function\")\n",
    "plt.title(\"Loss Function\");"
   ]
  },
  {
   "cell_type": "code",
   "execution_count": 33,
   "metadata": {},
   "outputs": [],
   "source": [
    "def find_min(origin = 7):\n",
    "    #origin = float(input(\"起始值：\"))\n",
    "    # 該點斜率(約略值)\n",
    "    origin_right = origin + 0.001\n",
    "    origin_left = origin - 0.001\n",
    "    origin_diff = origin_right - origin_left\n",
    "    y_diff = np.sin(origin_right) / origin_right - np.sin(origin_left) / origin_left\n",
    "    slope = y_diff / origin_diff\n",
    "    # 底圖\n",
    "    x = np.linspace(1, 15, 100000)\n",
    "    y = np.sin(x) / x\n",
    "    plt.figure(figsize = (15, 7))\n",
    "    plt.plot(x, y)\n",
    "    plt.scatter(origin, np.sin(origin) / origin, s = 200)\n",
    "    \n",
    "    learning_rate = 0.01 * abs(slope) # 讓斜率愈接近0時learning rate愈小，以防超過\n",
    "    n = 0\n",
    "    while abs(slope) > 0.001: # 如果斜率還不夠小，就要繼續找下去\n",
    "        if slope < 0:\n",
    "            origin += learning_rate\n",
    "        else:\n",
    "            origin -= learning_rate\n",
    "        origin_right = origin + 0.001\n",
    "        origin_left = origin - 0.001\n",
    "        origin_diff = origin_right - origin_left\n",
    "        y_diff = np.sin(origin_right) / origin_right - np.sin(origin_left) / origin_left\n",
    "        slope = y_diff / origin_diff\n",
    "        n += 1\n",
    "        if n % 200 == 0:\n",
    "            plt.scatter(origin, np.sin(origin) / origin, s = 60)\n",
    "    plt.xlabel(\"x\", fontsize = 'x-large')\n",
    "    plt.ylabel(\"Loss Function\", fontsize = 'x-large')\n",
    "    plt.title(\"Loss Function\", fontsize = 'xx-large')"
   ]
  },
  {
   "cell_type": "markdown",
   "metadata": {},
   "source": [
    "## 以互動式滑桿來看不同起始值的變化"
   ]
  },
  {
   "cell_type": "code",
   "execution_count": 34,
   "metadata": {},
   "outputs": [
    {
     "data": {
      "application/vnd.jupyter.widget-view+json": {
       "model_id": "b661a9cfe6274fc08b61c73e4080b781",
       "version_major": 2,
       "version_minor": 0
      },
      "text/html": [
       "<p>Failed to display Jupyter Widget of type <code>interactive</code>.</p>\n",
       "<p>\n",
       "  If you're reading this message in the Jupyter Notebook or JupyterLab Notebook, it may mean\n",
       "  that the widgets JavaScript is still loading. If this message persists, it\n",
       "  likely means that the widgets JavaScript library is either not installed or\n",
       "  not enabled. See the <a href=\"https://ipywidgets.readthedocs.io/en/stable/user_install.html\">Jupyter\n",
       "  Widgets Documentation</a> for setup instructions.\n",
       "</p>\n",
       "<p>\n",
       "  If you're reading this message in another frontend (for example, a static\n",
       "  rendering on GitHub or <a href=\"https://nbviewer.jupyter.org/\">NBViewer</a>),\n",
       "  it may mean that your frontend doesn't currently support widgets.\n",
       "</p>\n"
      ],
      "text/plain": [
       "interactive(children=(IntSlider(value=7, description='origin', max=21, min=-7), Output()), _dom_classes=('widget-interact',))"
      ]
     },
     "metadata": {},
     "output_type": "display_data"
    },
    {
     "data": {
      "text/plain": [
       "<function __main__.find_min>"
      ]
     },
     "execution_count": 34,
     "metadata": {},
     "output_type": "execute_result"
    }
   ],
   "source": [
    "interact(find_min)"
   ]
  }
 ],
 "metadata": {
  "kernelspec": {
   "display_name": "Python 3",
   "language": "python",
   "name": "python3"
  },
  "language_info": {
   "codemirror_mode": {
    "name": "ipython",
    "version": 3
   },
   "file_extension": ".py",
   "mimetype": "text/x-python",
   "name": "python",
   "nbconvert_exporter": "python",
   "pygments_lexer": "ipython3",
   "version": "3.6.4"
  }
 },
 "nbformat": 4,
 "nbformat_minor": 2
}
