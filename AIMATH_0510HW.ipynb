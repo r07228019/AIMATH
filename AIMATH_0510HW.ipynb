{
 "cells": [
  {
   "cell_type": "code",
   "execution_count": 1,
   "metadata": {},
   "outputs": [
    {
     "name": "stdout",
     "output_type": "stream",
     "text": [
      "env: KERAS_BACKEND=tensorflow\n"
     ]
    },
    {
     "name": "stderr",
     "output_type": "stream",
     "text": [
      "c:\\users\\user\\anaconda3\\lib\\site-packages\\h5py\\__init__.py:36: FutureWarning: Conversion of the second argument of issubdtype from `float` to `np.floating` is deprecated. In future, it will be treated as `np.float64 == np.dtype(float).type`.\n",
      "  from ._conv import register_converters as _register_converters\n",
      "Using TensorFlow backend.\n"
     ]
    }
   ],
   "source": [
    "%env KERAS_BACKEND=tensorflow\n",
    "%matplotlib inline\n",
    "\n",
    "import numpy as np\n",
    "import matplotlib.pyplot as plt\n",
    "from keras.datasets import imdb\n",
    "from keras.preprocessing import sequence\n",
    "from keras.models import Sequential\n",
    "from keras.layers import Dense, Embedding\n",
    "from keras.layers import LSTM\n",
    "from keras.optimizers import Adam, SGD, RMSprop"
   ]
  },
  {
   "cell_type": "markdown",
   "metadata": {},
   "source": [
    "## 讀取IMDB資料\n",
    "最常用字數設為5000"
   ]
  },
  {
   "cell_type": "code",
   "execution_count": 2,
   "metadata": {},
   "outputs": [],
   "source": [
    "(x_train, y_train), (x_test, y_test) = imdb.load_data(num_words=5000)"
   ]
  },
  {
   "cell_type": "markdown",
   "metadata": {},
   "source": [
    "看一下train data，平均的長度是239，故maxlen設定為250"
   ]
  },
  {
   "cell_type": "code",
   "execution_count": 3,
   "metadata": {},
   "outputs": [
    {
     "data": {
      "text/plain": [
       "238.71364"
      ]
     },
     "execution_count": 3,
     "metadata": {},
     "output_type": "execute_result"
    }
   ],
   "source": [
    "l = [len(e) for e in x_train]\n",
    "np.mean(l)"
   ]
  },
  {
   "cell_type": "code",
   "execution_count": 4,
   "metadata": {},
   "outputs": [],
   "source": [
    "x_train = sequence.pad_sequences(x_train, maxlen=250)\n",
    "x_test = sequence.pad_sequences(x_test, maxlen=250)"
   ]
  },
  {
   "cell_type": "markdown",
   "metadata": {},
   "source": [
    "## 建立RNN模型\n",
    "設定將文字壓到10維；LSTM有50個神經元"
   ]
  },
  {
   "cell_type": "code",
   "execution_count": 5,
   "metadata": {},
   "outputs": [],
   "source": [
    "N = 10\n",
    "K = 50"
   ]
  },
  {
   "cell_type": "code",
   "execution_count": 6,
   "metadata": {},
   "outputs": [],
   "source": [
    "model = Sequential()\n",
    "model.add(Embedding(5000, N))\n",
    "model.add(LSTM(K))\n",
    "model.add(Dense(1, activation='sigmoid'))"
   ]
  },
  {
   "cell_type": "markdown",
   "metadata": {},
   "source": [
    "優化器選擇常用於RNN的RMSprop，learning rate定為0.005"
   ]
  },
  {
   "cell_type": "code",
   "execution_count": 7,
   "metadata": {},
   "outputs": [],
   "source": [
    "model.compile(loss='binary_crossentropy',\n",
    "             optimizer=RMSprop(lr=0.005),\n",
    "             metrics=['accuracy'])"
   ]
  },
  {
   "cell_type": "markdown",
   "metadata": {},
   "source": [
    "## 以訓練資料訓練\n",
    "batch size=50，重複10次"
   ]
  },
  {
   "cell_type": "code",
   "execution_count": 8,
   "metadata": {},
   "outputs": [
    {
     "name": "stdout",
     "output_type": "stream",
     "text": [
      "Train on 25000 samples, validate on 25000 samples\n",
      "Epoch 1/10\n",
      "25000/25000 [==============================] - 123s 5ms/step - loss: 0.4949 - acc: 0.7655 - val_loss: 0.3664 - val_acc: 0.8446\n",
      "Epoch 2/10\n",
      "25000/25000 [==============================] - 119s 5ms/step - loss: 0.3477 - acc: 0.8572 - val_loss: 0.3194 - val_acc: 0.8730\n",
      "Epoch 3/10\n",
      "25000/25000 [==============================] - 118s 5ms/step - loss: 0.2883 - acc: 0.8844 - val_loss: 0.3168 - val_acc: 0.8641\n",
      "Epoch 4/10\n",
      "25000/25000 [==============================] - 111s 4ms/step - loss: 0.2563 - acc: 0.8971 - val_loss: 0.3320 - val_acc: 0.8591\n",
      "Epoch 5/10\n",
      "25000/25000 [==============================] - 112s 4ms/step - loss: 0.2169 - acc: 0.9159 - val_loss: 0.2657 - val_acc: 0.8892\n",
      "Epoch 6/10\n",
      "25000/25000 [==============================] - 115s 5ms/step - loss: 0.1921 - acc: 0.9253 - val_loss: 0.3012 - val_acc: 0.8863\n",
      "Epoch 7/10\n",
      "25000/25000 [==============================] - 110s 4ms/step - loss: 0.1705 - acc: 0.9346 - val_loss: 0.2828 - val_acc: 0.8874\n",
      "Epoch 8/10\n",
      "25000/25000 [==============================] - 109s 4ms/step - loss: 0.1525 - acc: 0.9442 - val_loss: 0.3222 - val_acc: 0.8833\n",
      "Epoch 9/10\n",
      "25000/25000 [==============================] - 109s 4ms/step - loss: 0.1352 - acc: 0.9508 - val_loss: 0.3258 - val_acc: 0.8852\n",
      "Epoch 10/10\n",
      "25000/25000 [==============================] - 124s 5ms/step - loss: 0.1182 - acc: 0.9593 - val_loss: 0.3727 - val_acc: 0.8837\n"
     ]
    },
    {
     "data": {
      "text/plain": [
       "<keras.callbacks.History at 0x26a6e6687b8>"
      ]
     },
     "execution_count": 8,
     "metadata": {},
     "output_type": "execute_result"
    }
   ],
   "source": [
    "model.fit(x_train, y_train,\n",
    "         batch_size=50,\n",
    "         epochs=10, verbose=1, validation_data=(x_test, y_test))"
   ]
  },
  {
   "cell_type": "markdown",
   "metadata": {},
   "source": [
    "## 進行驗證"
   ]
  },
  {
   "cell_type": "code",
   "execution_count": 9,
   "metadata": {},
   "outputs": [
    {
     "name": "stdout",
     "output_type": "stream",
     "text": [
      "25000/25000 [==============================] - 30s 1ms/step\n"
     ]
    }
   ],
   "source": [
    "s = model.evaluate(x_test, y_test)"
   ]
  },
  {
   "cell_type": "code",
   "execution_count": 10,
   "metadata": {},
   "outputs": [
    {
     "name": "stdout",
     "output_type": "stream",
     "text": [
      "訓練後以驗證資料下去跑的正確率為：88.372\n"
     ]
    }
   ],
   "source": [
    "print(\"訓練後以驗證資料下去跑的正確率為：%s\" %(s[1]*100))"
   ]
  }
 ],
 "metadata": {
  "kernelspec": {
   "display_name": "Python 3",
   "language": "python",
   "name": "python3"
  },
  "language_info": {
   "codemirror_mode": {
    "name": "ipython",
    "version": 3
   },
   "file_extension": ".py",
   "mimetype": "text/x-python",
   "name": "python",
   "nbconvert_exporter": "python",
   "pygments_lexer": "ipython3",
   "version": "3.6.4"
  }
 },
 "nbformat": 4,
 "nbformat_minor": 2
}
