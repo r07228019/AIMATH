{
 "cells": [
  {
   "cell_type": "markdown",
   "metadata": {},
   "source": [
    "### 組員：廖章鈞、許毓芳、蔡賸豐"
   ]
  },
  {
   "cell_type": "markdown",
   "metadata": {},
   "source": [
    "### 主題：透過悠遊卡資料來判識學生族群\n",
    "介紹：若要對公共運輸系統有良好的規劃，了解其使用者的類型與旅行特徵就顯得極為重要。不同的使用者類型可能會對旅運服務有不同的使用需求，而若能將其掌握，將有助於營運單位日後針對路線、票價、服務等相關規劃，在滿足使用者的需求之餘，亦可將有限的資源最最有效的分配。因此，本次我們以學生族群為例，將悠遊卡交易紀錄中的捷運與YouBike紀錄做為資料來源，利用深度學習的方式，讓電腦能夠自動判識甚麼樣的使用者交易紀錄屬於「學生族群」，並了解這類型使用者的乘坐特性。期待未來能將更此辨識方式延用至更廣、更不易判斷的類型，對於公共運輸使用者的區分有近一步的了解。"
   ]
  },
  {
   "cell_type": "markdown",
   "metadata": {},
   "source": [
    "方法：\n",
    "本次專案使用的資料為台北市政府所提供3/15日之悠遊卡交易資料，考量資料的複雜度，選取捷運及YouBike進行操作，其中包含卡號（已加密）、進站時間、進站站點、出站時間、出站站點等資訊。由於高中以下學生的通勤模式都是平日早上從家裡出發，然後在7:30~8:30這段時間抵達學校，下午放學後的出校時間約為16:00~18:30，所以我們先將捷運站編碼後，以 3/15（週四）的捷運進出站資料為例，先篩選出站時間介於7:00-8:30之間、出站站點位於學校附近，且下課後的進站時間是 16:00-19:00 的進站紀錄，再人工判定後決定哪些是通勤學生，哪些不是。接著再以這些篩選完的兩組資料為 training data，再去設計RNN神經網路，來訓練學生族群的資料，並且嘗試不同activation, loss function及optimizer，來改善模型精確度。"
   ]
  },
  {
   "cell_type": "markdown",
   "metadata": {},
   "source": [
    "專案排程：\n",
    "5/20 取得2019/3/15 的捷運進出站資料\n",
    "5/29 人工選取是否為學生的交易紀錄\n",
    "6/4 完成訓練模型\n",
    "6/5 文字說明與分析\n",
    "6/7 繳交期限截止"
   ]
  },
  {
   "cell_type": "markdown",
   "metadata": {},
   "source": [
    "目前進度：\n",
    "已取得 2019/3/15 的捷運進出站資料，目前正在篩選資料中。"
   ]
  },
  {
   "cell_type": "markdown",
   "metadata": {},
   "source": [
    "### 資料樣貌（以YouBike為例），包含卡號、卡種、交易時間與地點。"
   ]
  },
  {
   "cell_type": "code",
   "execution_count": 2,
   "metadata": {},
   "outputs": [
    {
     "data": {
      "text/html": [
       "<div>\n",
       "<style scoped>\n",
       "    .dataframe tbody tr th:only-of-type {\n",
       "        vertical-align: middle;\n",
       "    }\n",
       "\n",
       "    .dataframe tbody tr th {\n",
       "        vertical-align: top;\n",
       "    }\n",
       "\n",
       "    .dataframe thead th {\n",
       "        text-align: right;\n",
       "    }\n",
       "</style>\n",
       "<table border=\"1\" class=\"dataframe\">\n",
       "  <thead>\n",
       "    <tr style=\"text-align: right;\">\n",
       "      <th></th>\n",
       "      <th>卡號</th>\n",
       "      <th>借車時間</th>\n",
       "      <th>借車站</th>\n",
       "      <th>還車時間</th>\n",
       "      <th>還車站</th>\n",
       "      <th>卡種</th>\n",
       "    </tr>\n",
       "  </thead>\n",
       "  <tbody>\n",
       "    <tr>\n",
       "      <th>0</th>\n",
       "      <td>217C5072423F82F737BF4D44B58D541A</td>\n",
       "      <td>2018/3/15 14:10</td>\n",
       "      <td>新生長安路口</td>\n",
       "      <td>2018/3/15 15:00</td>\n",
       "      <td>民生敦化路口</td>\n",
       "      <td>1</td>\n",
       "    </tr>\n",
       "    <tr>\n",
       "      <th>1</th>\n",
       "      <td>3D2184396C6995F33C0CD0171B4868F5</td>\n",
       "      <td>2018/3/15 13:59</td>\n",
       "      <td>華山文創園區</td>\n",
       "      <td>2018/3/15 14:08</td>\n",
       "      <td>華山文創園區</td>\n",
       "      <td>1</td>\n",
       "    </tr>\n",
       "    <tr>\n",
       "      <th>2</th>\n",
       "      <td>8C11D9BC97D1F152E6E5376C234BE93B</td>\n",
       "      <td>2018/3/15 13:54</td>\n",
       "      <td>民族玉門街口</td>\n",
       "      <td>2018/3/15 16:30</td>\n",
       "      <td>民族玉門街口</td>\n",
       "      <td>1</td>\n",
       "    </tr>\n",
       "    <tr>\n",
       "      <th>3</th>\n",
       "      <td>6D1E57BCD2099FBC6AA070F751FAEDFB</td>\n",
       "      <td>2018/3/15 18:38</td>\n",
       "      <td>民權建國路口</td>\n",
       "      <td>2018/3/15 18:47</td>\n",
       "      <td>南京建國路口</td>\n",
       "      <td>1</td>\n",
       "    </tr>\n",
       "    <tr>\n",
       "      <th>4</th>\n",
       "      <td>B401A99436B8431589056806C93DD5BE</td>\n",
       "      <td>2018/3/15 10:33</td>\n",
       "      <td>華聲公園</td>\n",
       "      <td>2018/3/15 12:12</td>\n",
       "      <td>捷運淡水站</td>\n",
       "      <td>1</td>\n",
       "    </tr>\n",
       "    <tr>\n",
       "      <th>5</th>\n",
       "      <td>6154CC169619E7F93C0CD0171B4868F5</td>\n",
       "      <td>2018/3/15 17:51</td>\n",
       "      <td>捷運松江南京站(7號出口)</td>\n",
       "      <td>2018/3/15 22:47</td>\n",
       "      <td>捷運大安站</td>\n",
       "      <td>1</td>\n",
       "    </tr>\n",
       "    <tr>\n",
       "      <th>6</th>\n",
       "      <td>3AEA45906EE9973F0CC84E6BE8CA8141</td>\n",
       "      <td>2018/3/15 12:31</td>\n",
       "      <td>民生光復路口</td>\n",
       "      <td>2018/3/15 12:37</td>\n",
       "      <td>民生光復路口</td>\n",
       "      <td>1</td>\n",
       "    </tr>\n",
       "    <tr>\n",
       "      <th>7</th>\n",
       "      <td>68B143AF6D117DA4A24EBEEFD30BA8D2</td>\n",
       "      <td>2018/3/15 17:56</td>\n",
       "      <td>捷運景美站</td>\n",
       "      <td>2018/3/15 18:08</td>\n",
       "      <td>建國民權路口</td>\n",
       "      <td>1</td>\n",
       "    </tr>\n",
       "    <tr>\n",
       "      <th>8</th>\n",
       "      <td>68105B37A037E6603C0CD0171B4868F5</td>\n",
       "      <td>2018/3/15 17:56</td>\n",
       "      <td>捷運木柵站</td>\n",
       "      <td>2018/3/15 18:29</td>\n",
       "      <td>捷運木柵站</td>\n",
       "      <td>1</td>\n",
       "    </tr>\n",
       "    <tr>\n",
       "      <th>9</th>\n",
       "      <td>9EE78D0BF5D4A95389056806C93DD5BE</td>\n",
       "      <td>2018/3/15 08:43</td>\n",
       "      <td>捷運後山埤站(1號出口)</td>\n",
       "      <td>2018/3/15 08:51</td>\n",
       "      <td>捷運昆陽站(1號出口)</td>\n",
       "      <td>1</td>\n",
       "    </tr>\n",
       "  </tbody>\n",
       "</table>\n",
       "</div>"
      ],
      "text/plain": [
       "                                 卡號             借車時間            借車站  \\\n",
       "0  217C5072423F82F737BF4D44B58D541A  2018/3/15 14:10         新生長安路口   \n",
       "1  3D2184396C6995F33C0CD0171B4868F5  2018/3/15 13:59         華山文創園區   \n",
       "2  8C11D9BC97D1F152E6E5376C234BE93B  2018/3/15 13:54         民族玉門街口   \n",
       "3  6D1E57BCD2099FBC6AA070F751FAEDFB  2018/3/15 18:38         民權建國路口   \n",
       "4  B401A99436B8431589056806C93DD5BE  2018/3/15 10:33           華聲公園   \n",
       "5  6154CC169619E7F93C0CD0171B4868F5  2018/3/15 17:51  捷運松江南京站(7號出口)   \n",
       "6  3AEA45906EE9973F0CC84E6BE8CA8141  2018/3/15 12:31         民生光復路口   \n",
       "7  68B143AF6D117DA4A24EBEEFD30BA8D2  2018/3/15 17:56          捷運景美站   \n",
       "8  68105B37A037E6603C0CD0171B4868F5  2018/3/15 17:56          捷運木柵站   \n",
       "9  9EE78D0BF5D4A95389056806C93DD5BE  2018/3/15 08:43   捷運後山埤站(1號出口)   \n",
       "\n",
       "              還車時間          還車站  卡種  \n",
       "0  2018/3/15 15:00       民生敦化路口   1  \n",
       "1  2018/3/15 14:08       華山文創園區   1  \n",
       "2  2018/3/15 16:30       民族玉門街口   1  \n",
       "3  2018/3/15 18:47       南京建國路口   1  \n",
       "4  2018/3/15 12:12        捷運淡水站   1  \n",
       "5  2018/3/15 22:47        捷運大安站   1  \n",
       "6  2018/3/15 12:37       民生光復路口   1  \n",
       "7  2018/3/15 18:08       建國民權路口   1  \n",
       "8  2018/3/15 18:29        捷運木柵站   1  \n",
       "9  2018/3/15 08:51  捷運昆陽站(1號出口)   1  "
      ]
     },
     "execution_count": 2,
     "metadata": {},
     "output_type": "execute_result"
    }
   ],
   "source": [
    "import pandas as pd\n",
    "\n",
    "df = pd.read_csv('C:/Users/USER/Desktop/0315_ubike.csv', engine = 'python')\n",
    "df.head(10)"
   ]
  }
 ],
 "metadata": {
  "kernelspec": {
   "display_name": "Python 3",
   "language": "python",
   "name": "python3"
  },
  "language_info": {
   "codemirror_mode": {
    "name": "ipython",
    "version": 3
   },
   "file_extension": ".py",
   "mimetype": "text/x-python",
   "name": "python",
   "nbconvert_exporter": "python",
   "pygments_lexer": "ipython3",
   "version": "3.6.4"
  }
 },
 "nbformat": 4,
 "nbformat_minor": 2
}
