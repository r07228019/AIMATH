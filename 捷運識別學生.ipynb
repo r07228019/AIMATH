{
 "cells": [
  {
   "cell_type": "code",
   "execution_count": 1,
   "metadata": {},
   "outputs": [],
   "source": [
    "import pandas as pd\n",
    "import numpy as np\n",
    "from collections import Counter\n",
    "import datetime"
   ]
  },
  {
   "cell_type": "markdown",
   "metadata": {},
   "source": [
    "# 要的資料(已刪除怪時間)"
   ]
  },
  {
   "cell_type": "code",
   "execution_count": 2,
   "metadata": {},
   "outputs": [
    {
     "data": {
      "text/html": [
       "<div>\n",
       "<style scoped>\n",
       "    .dataframe tbody tr th:only-of-type {\n",
       "        vertical-align: middle;\n",
       "    }\n",
       "\n",
       "    .dataframe tbody tr th {\n",
       "        vertical-align: top;\n",
       "    }\n",
       "\n",
       "    .dataframe thead th {\n",
       "        text-align: right;\n",
       "    }\n",
       "</style>\n",
       "<table border=\"1\" class=\"dataframe\">\n",
       "  <thead>\n",
       "    <tr style=\"text-align: right;\">\n",
       "      <th></th>\n",
       "      <th>卡號</th>\n",
       "      <th>卡種</th>\n",
       "      <th>進站時間</th>\n",
       "      <th>出站時間</th>\n",
       "      <th>進站站名</th>\n",
       "      <th>出站站名</th>\n",
       "    </tr>\n",
       "  </thead>\n",
       "  <tbody>\n",
       "    <tr>\n",
       "      <th>0</th>\n",
       "      <td>4EAA7E5DF9ABF31C25C044C3D97BB99B</td>\n",
       "      <td>1</td>\n",
       "      <td>2018/3/15 00:00</td>\n",
       "      <td>2018/3/15 00:03</td>\n",
       "      <td>中山</td>\n",
       "      <td>台北車站</td>\n",
       "    </tr>\n",
       "    <tr>\n",
       "      <th>1</th>\n",
       "      <td>692F806BA592B4D71D860EA4A6FDF776</td>\n",
       "      <td>1</td>\n",
       "      <td>2018/3/15 00:00</td>\n",
       "      <td>2018/3/15 00:07</td>\n",
       "      <td>景美</td>\n",
       "      <td>大坪林</td>\n",
       "    </tr>\n",
       "    <tr>\n",
       "      <th>2</th>\n",
       "      <td>5ADE62B16DF06DCC73979766C9583BAD</td>\n",
       "      <td>1</td>\n",
       "      <td>2018/3/15 00:00</td>\n",
       "      <td>2018/3/15 00:07</td>\n",
       "      <td>南港軟體園區</td>\n",
       "      <td>葫洲</td>\n",
       "    </tr>\n",
       "    <tr>\n",
       "      <th>3</th>\n",
       "      <td>5DBBD10BB6CE5FB1818256B728A1AF4F</td>\n",
       "      <td>1</td>\n",
       "      <td>2018/3/15 00:00</td>\n",
       "      <td>2018/3/15 00:07</td>\n",
       "      <td>台北車站</td>\n",
       "      <td>中正紀念堂</td>\n",
       "    </tr>\n",
       "    <tr>\n",
       "      <th>4</th>\n",
       "      <td>670A0867B357411F25C044C3D97BB99B</td>\n",
       "      <td>1</td>\n",
       "      <td>2018/3/15 00:00</td>\n",
       "      <td>2018/3/15 00:07</td>\n",
       "      <td>台北車站</td>\n",
       "      <td>中正紀念堂</td>\n",
       "    </tr>\n",
       "    <tr>\n",
       "      <th>5</th>\n",
       "      <td>997F2CDD258A512D3C0CD0171B4868F5</td>\n",
       "      <td>1</td>\n",
       "      <td>2018/3/15 00:00</td>\n",
       "      <td>2018/3/15 00:08</td>\n",
       "      <td>台北車站</td>\n",
       "      <td>西門</td>\n",
       "    </tr>\n",
       "    <tr>\n",
       "      <th>6</th>\n",
       "      <td>612D9882EF211EF9A85E5D42186C3DA3</td>\n",
       "      <td>1</td>\n",
       "      <td>2018/3/15 00:00</td>\n",
       "      <td>2018/3/15 00:08</td>\n",
       "      <td>忠孝敦化</td>\n",
       "      <td>永春</td>\n",
       "    </tr>\n",
       "    <tr>\n",
       "      <th>7</th>\n",
       "      <td>BD09011AE0C16096268824DC1A5F3F43</td>\n",
       "      <td>6</td>\n",
       "      <td>2018/3/15 00:00</td>\n",
       "      <td>2018/3/15 00:08</td>\n",
       "      <td>板橋</td>\n",
       "      <td>海山</td>\n",
       "    </tr>\n",
       "    <tr>\n",
       "      <th>8</th>\n",
       "      <td>1952E9E52F57B95925C044C3D97BB99B</td>\n",
       "      <td>9</td>\n",
       "      <td>2018/3/15 00:00</td>\n",
       "      <td>2018/3/15 00:08</td>\n",
       "      <td>龍山寺</td>\n",
       "      <td>西門</td>\n",
       "    </tr>\n",
       "    <tr>\n",
       "      <th>9</th>\n",
       "      <td>6F18837E7116F5113C0CD0171B4868F5</td>\n",
       "      <td>1</td>\n",
       "      <td>2018/3/15 00:00</td>\n",
       "      <td>2018/3/15 00:10</td>\n",
       "      <td>台北車站</td>\n",
       "      <td>古亭</td>\n",
       "    </tr>\n",
       "  </tbody>\n",
       "</table>\n",
       "</div>"
      ],
      "text/plain": [
       "                                 卡號  卡種             進站時間             出站時間  \\\n",
       "0  4EAA7E5DF9ABF31C25C044C3D97BB99B   1  2018/3/15 00:00  2018/3/15 00:03   \n",
       "1  692F806BA592B4D71D860EA4A6FDF776   1  2018/3/15 00:00  2018/3/15 00:07   \n",
       "2  5ADE62B16DF06DCC73979766C9583BAD   1  2018/3/15 00:00  2018/3/15 00:07   \n",
       "3  5DBBD10BB6CE5FB1818256B728A1AF4F   1  2018/3/15 00:00  2018/3/15 00:07   \n",
       "4  670A0867B357411F25C044C3D97BB99B   1  2018/3/15 00:00  2018/3/15 00:07   \n",
       "5  997F2CDD258A512D3C0CD0171B4868F5   1  2018/3/15 00:00  2018/3/15 00:08   \n",
       "6  612D9882EF211EF9A85E5D42186C3DA3   1  2018/3/15 00:00  2018/3/15 00:08   \n",
       "7  BD09011AE0C16096268824DC1A5F3F43   6  2018/3/15 00:00  2018/3/15 00:08   \n",
       "8  1952E9E52F57B95925C044C3D97BB99B   9  2018/3/15 00:00  2018/3/15 00:08   \n",
       "9  6F18837E7116F5113C0CD0171B4868F5   1  2018/3/15 00:00  2018/3/15 00:10   \n",
       "\n",
       "     進站站名   出站站名  \n",
       "0      中山   台北車站  \n",
       "1      景美    大坪林  \n",
       "2  南港軟體園區     葫洲  \n",
       "3    台北車站  中正紀念堂  \n",
       "4    台北車站  中正紀念堂  \n",
       "5    台北車站     西門  \n",
       "6    忠孝敦化     永春  \n",
       "7      板橋     海山  \n",
       "8     龍山寺     西門  \n",
       "9    台北車站     古亭  "
      ]
     },
     "execution_count": 2,
     "metadata": {},
     "output_type": "execute_result"
    }
   ],
   "source": [
    "df1 = pd.read_csv(\"C:/Users/USER/Desktop/0315運具資料/0315_mrt_1.csv\", engine='python')\n",
    "df2 = pd.read_csv(\"C:/Users/USER/Desktop/0315運具資料/0315_mrt_2.csv\", engine='python')\n",
    "df3 = pd.read_csv(\"C:/Users/USER/Desktop/0315運具資料/0315_mrt_3.csv\", engine='python')\n",
    "\n",
    "df = pd.concat([df1, df2, df3])\n",
    "df.reset_index(drop=True)\n",
    "df.head(10)"
   ]
  },
  {
   "cell_type": "markdown",
   "metadata": {},
   "source": [
    "## 刪除凌晨、同站進出及只有一次的紀錄"
   ]
  },
  {
   "cell_type": "code",
   "execution_count": 3,
   "metadata": {},
   "outputs": [
    {
     "data": {
      "text/plain": [
       "994429"
      ]
     },
     "execution_count": 3,
     "metadata": {},
     "output_type": "execute_result"
    }
   ],
   "source": [
    "df = df.loc[df['出站時間'] >= '2018/3/15 05:30']\n",
    "df = df.loc[df['進站站名'] != df['出站站名']]\n",
    "result = Counter(df['卡號']) # 看每個卡號出現幾次\n",
    "len(result)"
   ]
  },
  {
   "cell_type": "code",
   "execution_count": 4,
   "metadata": {},
   "outputs": [
    {
     "data": {
      "text/html": [
       "<div>\n",
       "<style scoped>\n",
       "    .dataframe tbody tr th:only-of-type {\n",
       "        vertical-align: middle;\n",
       "    }\n",
       "\n",
       "    .dataframe tbody tr th {\n",
       "        vertical-align: top;\n",
       "    }\n",
       "\n",
       "    .dataframe thead th {\n",
       "        text-align: right;\n",
       "    }\n",
       "</style>\n",
       "<table border=\"1\" class=\"dataframe\">\n",
       "  <thead>\n",
       "    <tr style=\"text-align: right;\">\n",
       "      <th></th>\n",
       "      <th>卡號</th>\n",
       "      <th>卡種</th>\n",
       "      <th>進站時間</th>\n",
       "      <th>出站時間</th>\n",
       "      <th>進站站名</th>\n",
       "      <th>出站站名</th>\n",
       "    </tr>\n",
       "  </thead>\n",
       "  <tbody>\n",
       "    <tr>\n",
       "      <th>3538</th>\n",
       "      <td>5DBC2CB150945296A24EBEEFD30BA8D2</td>\n",
       "      <td>129</td>\n",
       "      <td>2018/3/15 05:30</td>\n",
       "      <td>2018/3/15 06:22</td>\n",
       "      <td>中正紀念堂</td>\n",
       "      <td>新店</td>\n",
       "    </tr>\n",
       "    <tr>\n",
       "      <th>3539</th>\n",
       "      <td>1DCEE93118CE1B0FD988060A0F580936</td>\n",
       "      <td>2</td>\n",
       "      <td>2018/3/15 05:31</td>\n",
       "      <td>2018/3/15 06:33</td>\n",
       "      <td>輔大</td>\n",
       "      <td>石牌</td>\n",
       "    </tr>\n",
       "    <tr>\n",
       "      <th>3541</th>\n",
       "      <td>B48E4E2B9A6D01CCBA30602405CFB44A</td>\n",
       "      <td>1</td>\n",
       "      <td>2018/3/15 05:31</td>\n",
       "      <td>2018/3/15 06:48</td>\n",
       "      <td>輔大</td>\n",
       "      <td>南港展覽館</td>\n",
       "    </tr>\n",
       "    <tr>\n",
       "      <th>3542</th>\n",
       "      <td>CE362EC2BDED2467198E57A6F07C8FE8</td>\n",
       "      <td>1</td>\n",
       "      <td>2018/3/15 05:32</td>\n",
       "      <td>2018/3/15 06:03</td>\n",
       "      <td>古亭</td>\n",
       "      <td>東門</td>\n",
       "    </tr>\n",
       "    <tr>\n",
       "      <th>3543</th>\n",
       "      <td>F19F5F5248A857CD95BC1EA72255A32D</td>\n",
       "      <td>1</td>\n",
       "      <td>2018/3/15 05:32</td>\n",
       "      <td>2018/3/15 06:34</td>\n",
       "      <td>頂埔</td>\n",
       "      <td>南京復興</td>\n",
       "    </tr>\n",
       "    <tr>\n",
       "      <th>3545</th>\n",
       "      <td>701CE073A3A6343273979766C9583BAD</td>\n",
       "      <td>2</td>\n",
       "      <td>2018/3/15 05:33</td>\n",
       "      <td>2018/3/15 06:16</td>\n",
       "      <td>江子翠</td>\n",
       "      <td>忠孝復興</td>\n",
       "    </tr>\n",
       "    <tr>\n",
       "      <th>3548</th>\n",
       "      <td>DED0B025B9FE2084B584C801467FB4E7</td>\n",
       "      <td>2</td>\n",
       "      <td>2018/3/15 05:33</td>\n",
       "      <td>2018/3/15 06:39</td>\n",
       "      <td>輔大</td>\n",
       "      <td>台北小巨蛋</td>\n",
       "    </tr>\n",
       "    <tr>\n",
       "      <th>3549</th>\n",
       "      <td>C5C50C307C4B8E1AFBFD76602BB80929</td>\n",
       "      <td>1</td>\n",
       "      <td>2018/3/15 05:33</td>\n",
       "      <td>2018/3/15 06:42</td>\n",
       "      <td>頂埔</td>\n",
       "      <td>昆陽</td>\n",
       "    </tr>\n",
       "    <tr>\n",
       "      <th>3550</th>\n",
       "      <td>09C8C76193B9AE643C0CD0171B4868F5</td>\n",
       "      <td>1</td>\n",
       "      <td>2018/3/15 05:34</td>\n",
       "      <td>2018/3/15 06:14</td>\n",
       "      <td>頂埔</td>\n",
       "      <td>板橋</td>\n",
       "    </tr>\n",
       "    <tr>\n",
       "      <th>3552</th>\n",
       "      <td>F0A72039BA2AAE81DC96B3BABAFED5B0</td>\n",
       "      <td>1</td>\n",
       "      <td>2018/3/15 05:34</td>\n",
       "      <td>2018/3/15 06:19</td>\n",
       "      <td>新埔</td>\n",
       "      <td>南京復興</td>\n",
       "    </tr>\n",
       "  </tbody>\n",
       "</table>\n",
       "</div>"
      ],
      "text/plain": [
       "                                    卡號   卡種             進站時間             出站時間  \\\n",
       "3538  5DBC2CB150945296A24EBEEFD30BA8D2  129  2018/3/15 05:30  2018/3/15 06:22   \n",
       "3539  1DCEE93118CE1B0FD988060A0F580936    2  2018/3/15 05:31  2018/3/15 06:33   \n",
       "3541  B48E4E2B9A6D01CCBA30602405CFB44A    1  2018/3/15 05:31  2018/3/15 06:48   \n",
       "3542  CE362EC2BDED2467198E57A6F07C8FE8    1  2018/3/15 05:32  2018/3/15 06:03   \n",
       "3543  F19F5F5248A857CD95BC1EA72255A32D    1  2018/3/15 05:32  2018/3/15 06:34   \n",
       "3545  701CE073A3A6343273979766C9583BAD    2  2018/3/15 05:33  2018/3/15 06:16   \n",
       "3548  DED0B025B9FE2084B584C801467FB4E7    2  2018/3/15 05:33  2018/3/15 06:39   \n",
       "3549  C5C50C307C4B8E1AFBFD76602BB80929    1  2018/3/15 05:33  2018/3/15 06:42   \n",
       "3550  09C8C76193B9AE643C0CD0171B4868F5    1  2018/3/15 05:34  2018/3/15 06:14   \n",
       "3552  F0A72039BA2AAE81DC96B3BABAFED5B0    1  2018/3/15 05:34  2018/3/15 06:19   \n",
       "\n",
       "       進站站名   出站站名  \n",
       "3538  中正紀念堂     新店  \n",
       "3539     輔大     石牌  \n",
       "3541     輔大  南港展覽館  \n",
       "3542     古亭     東門  \n",
       "3543     頂埔   南京復興  \n",
       "3545    江子翠   忠孝復興  \n",
       "3548     輔大  台北小巨蛋  \n",
       "3549     頂埔     昆陽  \n",
       "3550     頂埔     板橋  \n",
       "3552     新埔   南京復興  "
      ]
     },
     "execution_count": 4,
     "metadata": {},
     "output_type": "execute_result"
    }
   ],
   "source": [
    "r = [e for e in result if result[e] >= 2]\n",
    "dff = df.loc[df['卡號'].isin(r)]\n",
    "dff.head(10)"
   ]
  },
  {
   "cell_type": "markdown",
   "metadata": {},
   "source": [
    "## 讀取怪時間的檔案，把有在這裏面的卡號也刪掉"
   ]
  },
  {
   "cell_type": "code",
   "execution_count": 5,
   "metadata": {},
   "outputs": [
    {
     "data": {
      "text/html": [
       "<div>\n",
       "<style scoped>\n",
       "    .dataframe tbody tr th:only-of-type {\n",
       "        vertical-align: middle;\n",
       "    }\n",
       "\n",
       "    .dataframe tbody tr th {\n",
       "        vertical-align: top;\n",
       "    }\n",
       "\n",
       "    .dataframe thead th {\n",
       "        text-align: right;\n",
       "    }\n",
       "</style>\n",
       "<table border=\"1\" class=\"dataframe\">\n",
       "  <thead>\n",
       "    <tr style=\"text-align: right;\">\n",
       "      <th></th>\n",
       "      <th>卡號</th>\n",
       "      <th>卡種</th>\n",
       "      <th>進站時間</th>\n",
       "      <th>出站時間</th>\n",
       "      <th>進站站名</th>\n",
       "      <th>出站站名</th>\n",
       "    </tr>\n",
       "  </thead>\n",
       "  <tbody>\n",
       "    <tr>\n",
       "      <th>3538</th>\n",
       "      <td>5DBC2CB150945296A24EBEEFD30BA8D2</td>\n",
       "      <td>129</td>\n",
       "      <td>2018/3/15 05:30</td>\n",
       "      <td>2018/3/15 06:22</td>\n",
       "      <td>中正紀念堂</td>\n",
       "      <td>新店</td>\n",
       "    </tr>\n",
       "    <tr>\n",
       "      <th>3559</th>\n",
       "      <td>FB76F14511EF5FE96AAA34966BE2CE28</td>\n",
       "      <td>4</td>\n",
       "      <td>2018/3/15 05:35</td>\n",
       "      <td>2018/3/15 06:27</td>\n",
       "      <td>公館</td>\n",
       "      <td>忠孝敦化</td>\n",
       "    </tr>\n",
       "    <tr>\n",
       "      <th>3655</th>\n",
       "      <td>5C27504C421F8C9D25C044C3D97BB99B</td>\n",
       "      <td>2</td>\n",
       "      <td>2018/3/15 05:40</td>\n",
       "      <td>2018/3/15 06:05</td>\n",
       "      <td>國父紀念館</td>\n",
       "      <td>市政府</td>\n",
       "    </tr>\n",
       "    <tr>\n",
       "      <th>3657</th>\n",
       "      <td>974C305B901C383C89056806C93DD5BE</td>\n",
       "      <td>1</td>\n",
       "      <td>2018/3/15 05:40</td>\n",
       "      <td>2018/3/15 06:06</td>\n",
       "      <td>台北車站</td>\n",
       "      <td>忠孝復興</td>\n",
       "    </tr>\n",
       "    <tr>\n",
       "      <th>3659</th>\n",
       "      <td>38FF21DA34C371D78D9C40382E3DCB2489056806C93DD5BE</td>\n",
       "      <td>1</td>\n",
       "      <td>2018/3/15 05:40</td>\n",
       "      <td>2018/3/15 06:08</td>\n",
       "      <td>台北車站</td>\n",
       "      <td>圓山</td>\n",
       "    </tr>\n",
       "    <tr>\n",
       "      <th>3662</th>\n",
       "      <td>9863098C2AA9638D818256B728A1AF4F</td>\n",
       "      <td>1</td>\n",
       "      <td>2018/3/15 05:40</td>\n",
       "      <td>2018/3/15 06:10</td>\n",
       "      <td>劍南路</td>\n",
       "      <td>松山機場</td>\n",
       "    </tr>\n",
       "    <tr>\n",
       "      <th>3676</th>\n",
       "      <td>0E7B5432B5C0CA3F885D30353824D5F1</td>\n",
       "      <td>1</td>\n",
       "      <td>2018/3/15 05:40</td>\n",
       "      <td>2018/3/15 06:14</td>\n",
       "      <td>菜寮</td>\n",
       "      <td>輔大</td>\n",
       "    </tr>\n",
       "    <tr>\n",
       "      <th>3684</th>\n",
       "      <td>8D0343C36D81447C3C0CD0171B4868F5</td>\n",
       "      <td>2</td>\n",
       "      <td>2018/3/15 05:40</td>\n",
       "      <td>2018/3/15 06:17</td>\n",
       "      <td>台北車站</td>\n",
       "      <td>石牌</td>\n",
       "    </tr>\n",
       "    <tr>\n",
       "      <th>3690</th>\n",
       "      <td>8AE48A8B7708830525C044C3D97BB99B</td>\n",
       "      <td>1</td>\n",
       "      <td>2018/3/15 05:40</td>\n",
       "      <td>2018/3/15 06:19</td>\n",
       "      <td>台北車站</td>\n",
       "      <td>七張</td>\n",
       "    </tr>\n",
       "    <tr>\n",
       "      <th>3718</th>\n",
       "      <td>43CC74C042F53DA4BDFA7CCD51C9C063</td>\n",
       "      <td>1</td>\n",
       "      <td>2018/3/15 05:40</td>\n",
       "      <td>2018/3/15 06:44</td>\n",
       "      <td>海山</td>\n",
       "      <td>芝山</td>\n",
       "    </tr>\n",
       "  </tbody>\n",
       "</table>\n",
       "</div>"
      ],
      "text/plain": [
       "                                                    卡號   卡種             進站時間  \\\n",
       "3538                  5DBC2CB150945296A24EBEEFD30BA8D2  129  2018/3/15 05:30   \n",
       "3559                  FB76F14511EF5FE96AAA34966BE2CE28    4  2018/3/15 05:35   \n",
       "3655                  5C27504C421F8C9D25C044C3D97BB99B    2  2018/3/15 05:40   \n",
       "3657                  974C305B901C383C89056806C93DD5BE    1  2018/3/15 05:40   \n",
       "3659  38FF21DA34C371D78D9C40382E3DCB2489056806C93DD5BE    1  2018/3/15 05:40   \n",
       "3662                  9863098C2AA9638D818256B728A1AF4F    1  2018/3/15 05:40   \n",
       "3676                  0E7B5432B5C0CA3F885D30353824D5F1    1  2018/3/15 05:40   \n",
       "3684                  8D0343C36D81447C3C0CD0171B4868F5    2  2018/3/15 05:40   \n",
       "3690                  8AE48A8B7708830525C044C3D97BB99B    1  2018/3/15 05:40   \n",
       "3718                  43CC74C042F53DA4BDFA7CCD51C9C063    1  2018/3/15 05:40   \n",
       "\n",
       "                 出站時間   進站站名  出站站名  \n",
       "3538  2018/3/15 06:22  中正紀念堂    新店  \n",
       "3559  2018/3/15 06:27     公館  忠孝敦化  \n",
       "3655  2018/3/15 06:05  國父紀念館   市政府  \n",
       "3657  2018/3/15 06:06   台北車站  忠孝復興  \n",
       "3659  2018/3/15 06:08   台北車站    圓山  \n",
       "3662  2018/3/15 06:10    劍南路  松山機場  \n",
       "3676  2018/3/15 06:14     菜寮    輔大  \n",
       "3684  2018/3/15 06:17   台北車站    石牌  \n",
       "3690  2018/3/15 06:19   台北車站    七張  \n",
       "3718  2018/3/15 06:44     海山    芝山  "
      ]
     },
     "execution_count": 5,
     "metadata": {},
     "output_type": "execute_result"
    }
   ],
   "source": [
    "df_d1 = pd.read_csv(\"C:/Users/USER/Desktop/0315運具資料/0315_mrtnot_1.csv\", engine='python')\n",
    "df_d2 = pd.read_csv(\"C:/Users/USER/Desktop/0315運具資料/0315_mrtnot_2.csv\", engine='python')\n",
    "df_d = pd.concat([df_d1, df_d2])\n",
    "\n",
    "dfff = dff.loc[~dff['卡號'].isin(df_d['卡號'])]\n",
    "dfff.head(10)"
   ]
  },
  {
   "cell_type": "code",
   "execution_count": 6,
   "metadata": {},
   "outputs": [],
   "source": [
    "dfff_1 = dfff"
   ]
  },
  {
   "cell_type": "code",
   "execution_count": 7,
   "metadata": {},
   "outputs": [],
   "source": [
    "dfff_1.to_csv(\"C:/Users/USER/Desktop/0315運具資料/無單筆_無同站_無怪時間_全卡種.csv\")"
   ]
  },
  {
   "cell_type": "markdown",
   "metadata": {},
   "source": [
    "## 取出卡種為1者(不要了)"
   ]
  },
  {
   "cell_type": "code",
   "execution_count": 8,
   "metadata": {},
   "outputs": [],
   "source": [
    "#dfff_1 = dfff.loc[dfff['卡種'] == 1] # 卡種為1"
   ]
  },
  {
   "cell_type": "code",
   "execution_count": 9,
   "metadata": {},
   "outputs": [],
   "source": [
    "#dfff_1.to_csv(\"C:/Users/USER/Desktop/0315運具資料/無單筆_無怪時間_卡種1.csv\")"
   ]
  },
  {
   "cell_type": "code",
   "execution_count": 10,
   "metadata": {},
   "outputs": [],
   "source": [
    "#dfff_1.shape"
   ]
  },
  {
   "cell_type": "markdown",
   "metadata": {},
   "source": [
    "## 刪除第一次出站是'輔大', '唭哩岸', '大湖公園', '竹圍', '頂埔'的紀錄"
   ]
  },
  {
   "cell_type": "code",
   "execution_count": 11,
   "metadata": {},
   "outputs": [
    {
     "data": {
      "text/plain": [
       "\"for i in dfff_1_sort['卡號']:\\n    if i not in card_id:\\n        card_id.append(i)\""
      ]
     },
     "execution_count": 11,
     "metadata": {},
     "output_type": "execute_result"
    }
   ],
   "source": [
    "dfff_1_sort = dfff_1.sort_values(by='卡號')\n",
    "\n",
    "card_id = list(set(list(dfff_1_sort['卡號']))) # 取出卡號的unique\n",
    "\"\"\"for i in dfff_1_sort['卡號']:\n",
    "    if i not in card_id:\n",
    "        card_id.append(i)\"\"\""
   ]
  },
  {
   "cell_type": "code",
   "execution_count": 12,
   "metadata": {},
   "outputs": [],
   "source": [
    "#first_index = [list(dfff_1_sort['卡號']).index(e) for e in card_id] # 每個卡號第一次出現的index"
   ]
  },
  {
   "cell_type": "code",
   "execution_count": 13,
   "metadata": {},
   "outputs": [
    {
     "data": {
      "text/plain": [
       "(107123, 6)"
      ]
     },
     "execution_count": 13,
     "metadata": {},
     "output_type": "execute_result"
    }
   ],
   "source": [
    "dfff_1_sort.shape"
   ]
  },
  {
   "cell_type": "code",
   "execution_count": 14,
   "metadata": {},
   "outputs": [
    {
     "data": {
      "text/plain": [
       "'\\nfor i, j in zip(card_id, first_id):\\n    if dfff_1_sort.iloc[j, 5] in del_stations:\\n        del_card_id.append(i)'"
      ]
     },
     "execution_count": 14,
     "metadata": {},
     "output_type": "execute_result"
    }
   ],
   "source": [
    "del_stations = ['輔大', '唭哩岸', '大湖公園', '竹圍', '頂埔']\n",
    "del_card_id = [e for e in card_id if dfff_1_sort.iloc[list(dfff_1_sort['卡號']).index(e), 5] in del_stations]\n",
    "\"\"\"\n",
    "for i, j in zip(card_id, first_id):\n",
    "    if dfff_1_sort.iloc[j, 5] in del_stations:\n",
    "        del_card_id.append(i)\"\"\""
   ]
  },
  {
   "cell_type": "code",
   "execution_count": 15,
   "metadata": {},
   "outputs": [
    {
     "data": {
      "text/plain": [
       "(104390, 6)"
      ]
     },
     "execution_count": 15,
     "metadata": {},
     "output_type": "execute_result"
    }
   ],
   "source": [
    "dfff_1_sort_del = dfff_1_sort.loc[~dfff_1_sort['卡號'].isin(del_card_id)]\n",
    "dfff_1_sort_del.shape"
   ]
  },
  {
   "cell_type": "markdown",
   "metadata": {},
   "source": [
    "## 找出第一次進站等於最後一次出站、第一次出站等於第二次進站(原變數名稱簡化為df_1_del)"
   ]
  },
  {
   "cell_type": "code",
   "execution_count": 16,
   "metadata": {},
   "outputs": [
    {
     "data": {
      "text/plain": [
       "\"for i in df_1_del['卡號']:\\n    if i not in card_id2:\\n        card_id2.append(i)\""
      ]
     },
     "execution_count": 16,
     "metadata": {},
     "output_type": "execute_result"
    }
   ],
   "source": [
    "df_1_del = dfff_1_sort_del # 原變數名稱簡化為df_1_del\n",
    "\n",
    "card_id2 = list(set(list(df_1_del['卡號']))) # 取出卡號的unique\n",
    "\"\"\"for i in df_1_del['卡號']:\n",
    "    if i not in card_id2:\n",
    "        card_id2.append(i)\"\"\"\n",
    "        \n",
    "# del_card_id2 = [e for e in card_id2 if df_1_del.iloc[list(df_1_del['卡號']).index(e), 4] != df_1_del.iloc[, 5]]\n"
   ]
  },
  {
   "cell_type": "code",
   "execution_count": 17,
   "metadata": {},
   "outputs": [
    {
     "data": {
      "text/html": [
       "<div>\n",
       "<style scoped>\n",
       "    .dataframe tbody tr th:only-of-type {\n",
       "        vertical-align: middle;\n",
       "    }\n",
       "\n",
       "    .dataframe tbody tr th {\n",
       "        vertical-align: top;\n",
       "    }\n",
       "\n",
       "    .dataframe thead th {\n",
       "        text-align: right;\n",
       "    }\n",
       "</style>\n",
       "<table border=\"1\" class=\"dataframe\">\n",
       "  <thead>\n",
       "    <tr style=\"text-align: right;\">\n",
       "      <th></th>\n",
       "      <th>卡號</th>\n",
       "      <th>卡種</th>\n",
       "      <th>進站時間</th>\n",
       "      <th>出站時間</th>\n",
       "      <th>進站站名</th>\n",
       "      <th>出站站名</th>\n",
       "    </tr>\n",
       "  </thead>\n",
       "  <tbody>\n",
       "    <tr>\n",
       "      <th>179978</th>\n",
       "      <td>0000EABB9067C31973979766C9583BAD</td>\n",
       "      <td>1</td>\n",
       "      <td>2018/3/15 07:36</td>\n",
       "      <td>2018/3/15 07:40</td>\n",
       "      <td>後山埤</td>\n",
       "      <td>永春</td>\n",
       "    </tr>\n",
       "    <tr>\n",
       "      <th>119537</th>\n",
       "      <td>0000EABB9067C31973979766C9583BAD</td>\n",
       "      <td>1</td>\n",
       "      <td>2018/3/15 07:16</td>\n",
       "      <td>2018/3/15 07:22</td>\n",
       "      <td>永春</td>\n",
       "      <td>後山埤</td>\n",
       "    </tr>\n",
       "    <tr>\n",
       "      <th>215725</th>\n",
       "      <td>0001DADA0254D55C89056806C93DD5BE</td>\n",
       "      <td>1</td>\n",
       "      <td>2018/3/15 22:18</td>\n",
       "      <td>2018/3/15 22:50</td>\n",
       "      <td>中正紀念堂</td>\n",
       "      <td>復興崗</td>\n",
       "    </tr>\n",
       "    <tr>\n",
       "      <th>288404</th>\n",
       "      <td>0001DADA0254D55C89056806C93DD5BE</td>\n",
       "      <td>1</td>\n",
       "      <td>2018/3/15 08:02</td>\n",
       "      <td>2018/3/15 08:47</td>\n",
       "      <td>復興崗</td>\n",
       "      <td>台北101/世貿</td>\n",
       "    </tr>\n",
       "    <tr>\n",
       "      <th>103044</th>\n",
       "      <td>0003797E26CAE7983C0CD0171B4868F5</td>\n",
       "      <td>1</td>\n",
       "      <td>2018/3/15 21:20</td>\n",
       "      <td>2018/3/15 21:34</td>\n",
       "      <td>忠孝復興</td>\n",
       "      <td>昆陽</td>\n",
       "    </tr>\n",
       "    <tr>\n",
       "      <th>283628</th>\n",
       "      <td>0003797E26CAE7983C0CD0171B4868F5</td>\n",
       "      <td>1</td>\n",
       "      <td>2018/3/15 08:01</td>\n",
       "      <td>2018/3/15 08:40</td>\n",
       "      <td>葫洲</td>\n",
       "      <td>中山</td>\n",
       "    </tr>\n",
       "    <tr>\n",
       "      <th>78943</th>\n",
       "      <td>00068CA49EBFAE4489056806C93DD5BE</td>\n",
       "      <td>1</td>\n",
       "      <td>2018/3/15 21:08</td>\n",
       "      <td>2018/3/15 21:41</td>\n",
       "      <td>南京三民</td>\n",
       "      <td>南勢角</td>\n",
       "    </tr>\n",
       "    <tr>\n",
       "      <th>446897</th>\n",
       "      <td>00068CA49EBFAE4489056806C93DD5BE</td>\n",
       "      <td>1</td>\n",
       "      <td>2018/3/15 08:40</td>\n",
       "      <td>2018/3/15 09:08</td>\n",
       "      <td>南勢角</td>\n",
       "      <td>南京三民</td>\n",
       "    </tr>\n",
       "    <tr>\n",
       "      <th>48685</th>\n",
       "      <td>0006FC4A74CEAF2E931BB4A6D6A3DF8B</td>\n",
       "      <td>6</td>\n",
       "      <td>2018/3/15 06:44</td>\n",
       "      <td>2018/3/15 07:26</td>\n",
       "      <td>頂溪</td>\n",
       "      <td>北投</td>\n",
       "    </tr>\n",
       "    <tr>\n",
       "      <th>71197</th>\n",
       "      <td>0006FC4A74CEAF2E931BB4A6D6A3DF8B</td>\n",
       "      <td>6</td>\n",
       "      <td>2018/3/15 21:04</td>\n",
       "      <td>2018/3/15 22:04</td>\n",
       "      <td>新北投</td>\n",
       "      <td>頂溪</td>\n",
       "    </tr>\n",
       "  </tbody>\n",
       "</table>\n",
       "</div>"
      ],
      "text/plain": [
       "                                      卡號  卡種             進站時間  \\\n",
       "179978  0000EABB9067C31973979766C9583BAD   1  2018/3/15 07:36   \n",
       "119537  0000EABB9067C31973979766C9583BAD   1  2018/3/15 07:16   \n",
       "215725  0001DADA0254D55C89056806C93DD5BE   1  2018/3/15 22:18   \n",
       "288404  0001DADA0254D55C89056806C93DD5BE   1  2018/3/15 08:02   \n",
       "103044  0003797E26CAE7983C0CD0171B4868F5   1  2018/3/15 21:20   \n",
       "283628  0003797E26CAE7983C0CD0171B4868F5   1  2018/3/15 08:01   \n",
       "78943   00068CA49EBFAE4489056806C93DD5BE   1  2018/3/15 21:08   \n",
       "446897  00068CA49EBFAE4489056806C93DD5BE   1  2018/3/15 08:40   \n",
       "48685   0006FC4A74CEAF2E931BB4A6D6A3DF8B   6  2018/3/15 06:44   \n",
       "71197   0006FC4A74CEAF2E931BB4A6D6A3DF8B   6  2018/3/15 21:04   \n",
       "\n",
       "                   出站時間   進站站名      出站站名  \n",
       "179978  2018/3/15 07:40    後山埤        永春  \n",
       "119537  2018/3/15 07:22     永春       後山埤  \n",
       "215725  2018/3/15 22:50  中正紀念堂       復興崗  \n",
       "288404  2018/3/15 08:47    復興崗  台北101/世貿  \n",
       "103044  2018/3/15 21:34   忠孝復興        昆陽  \n",
       "283628  2018/3/15 08:40     葫洲        中山  \n",
       "78943   2018/3/15 21:41   南京三民       南勢角  \n",
       "446897  2018/3/15 09:08    南勢角      南京三民  \n",
       "48685   2018/3/15 07:26     頂溪        北投  \n",
       "71197   2018/3/15 22:04    新北投        頂溪  "
      ]
     },
     "execution_count": 17,
     "metadata": {},
     "output_type": "execute_result"
    }
   ],
   "source": [
    "df_1_del = dfff_1_sort_del\n",
    "df_1_del.head(10)"
   ]
  },
  {
   "cell_type": "code",
   "execution_count": 18,
   "metadata": {},
   "outputs": [],
   "source": [
    "l = []\n",
    "for i in card_id2:\n",
    "    a = df_1_del[df_1_del.卡號 == i]  #從unique叫出卡號\n",
    "    l.append((a.iloc[0, 4]==a.iloc[-1, 5]) & (a.iloc[0, 5]==a.iloc[1, 4]) )\n",
    "    #頭進站 == 尾出站\n",
    "    #第一次出站 == 第二次進站"
   ]
  },
  {
   "cell_type": "code",
   "execution_count": 19,
   "metadata": {},
   "outputs": [],
   "source": [
    "card_id_firstlast = np.array(card_id2)[l]"
   ]
  },
  {
   "cell_type": "code",
   "execution_count": 20,
   "metadata": {},
   "outputs": [],
   "source": [
    "df_1_del_firstlast = df_1_del.loc[df_1_del['卡號'].isin(card_id_firstlast)]"
   ]
  },
  {
   "cell_type": "code",
   "execution_count": 21,
   "metadata": {},
   "outputs": [
    {
     "data": {
      "text/plain": [
       "60900"
      ]
     },
     "execution_count": 21,
     "metadata": {},
     "output_type": "execute_result"
    }
   ],
   "source": [
    "len(df_1_del_firstlast)"
   ]
  },
  {
   "cell_type": "code",
   "execution_count": 22,
   "metadata": {},
   "outputs": [
    {
     "name": "stderr",
     "output_type": "stream",
     "text": [
      "c:\\users\\user\\anaconda3\\lib\\site-packages\\ipykernel_launcher.py:1: SettingWithCopyWarning: \n",
      "A value is trying to be set on a copy of a slice from a DataFrame.\n",
      "Try using .loc[row_indexer,col_indexer] = value instead\n",
      "\n",
      "See the caveats in the documentation: http://pandas.pydata.org/pandas-docs/stable/indexing.html#indexing-view-versus-copy\n",
      "  \"\"\"Entry point for launching an IPython kernel.\n",
      "c:\\users\\user\\anaconda3\\lib\\site-packages\\ipykernel_launcher.py:2: SettingWithCopyWarning: \n",
      "A value is trying to be set on a copy of a slice from a DataFrame.\n",
      "Try using .loc[row_indexer,col_indexer] = value instead\n",
      "\n",
      "See the caveats in the documentation: http://pandas.pydata.org/pandas-docs/stable/indexing.html#indexing-view-versus-copy\n",
      "  \n"
     ]
    }
   ],
   "source": [
    "df_1_del_firstlast['進站時間'] = [e[10::] for e in df_1_del_firstlast['進站時間']]\n",
    "df_1_del_firstlast['出站時間'] = [e[10::] for e in df_1_del_firstlast['出站時間']]"
   ]
  },
  {
   "cell_type": "code",
   "execution_count": 23,
   "metadata": {},
   "outputs": [
    {
     "data": {
      "text/html": [
       "<div>\n",
       "<style scoped>\n",
       "    .dataframe tbody tr th:only-of-type {\n",
       "        vertical-align: middle;\n",
       "    }\n",
       "\n",
       "    .dataframe tbody tr th {\n",
       "        vertical-align: top;\n",
       "    }\n",
       "\n",
       "    .dataframe thead th {\n",
       "        text-align: right;\n",
       "    }\n",
       "</style>\n",
       "<table border=\"1\" class=\"dataframe\">\n",
       "  <thead>\n",
       "    <tr style=\"text-align: right;\">\n",
       "      <th></th>\n",
       "      <th>卡號</th>\n",
       "      <th>卡種</th>\n",
       "      <th>進站時間</th>\n",
       "      <th>出站時間</th>\n",
       "      <th>進站站名</th>\n",
       "      <th>出站站名</th>\n",
       "    </tr>\n",
       "  </thead>\n",
       "  <tbody>\n",
       "    <tr>\n",
       "      <th>179978</th>\n",
       "      <td>0000EABB9067C31973979766C9583BAD</td>\n",
       "      <td>1</td>\n",
       "      <td>07:36</td>\n",
       "      <td>07:40</td>\n",
       "      <td>後山埤</td>\n",
       "      <td>永春</td>\n",
       "    </tr>\n",
       "    <tr>\n",
       "      <th>119537</th>\n",
       "      <td>0000EABB9067C31973979766C9583BAD</td>\n",
       "      <td>1</td>\n",
       "      <td>07:16</td>\n",
       "      <td>07:22</td>\n",
       "      <td>永春</td>\n",
       "      <td>後山埤</td>\n",
       "    </tr>\n",
       "    <tr>\n",
       "      <th>78943</th>\n",
       "      <td>00068CA49EBFAE4489056806C93DD5BE</td>\n",
       "      <td>1</td>\n",
       "      <td>21:08</td>\n",
       "      <td>21:41</td>\n",
       "      <td>南京三民</td>\n",
       "      <td>南勢角</td>\n",
       "    </tr>\n",
       "    <tr>\n",
       "      <th>446897</th>\n",
       "      <td>00068CA49EBFAE4489056806C93DD5BE</td>\n",
       "      <td>1</td>\n",
       "      <td>08:40</td>\n",
       "      <td>09:08</td>\n",
       "      <td>南勢角</td>\n",
       "      <td>南京三民</td>\n",
       "    </tr>\n",
       "    <tr>\n",
       "      <th>88911</th>\n",
       "      <td>000731BCDBC7069225C044C3D97BB99B</td>\n",
       "      <td>1</td>\n",
       "      <td>21:13</td>\n",
       "      <td>21:33</td>\n",
       "      <td>唭哩岸</td>\n",
       "      <td>紅樹林</td>\n",
       "    </tr>\n",
       "    <tr>\n",
       "      <th>380008</th>\n",
       "      <td>000731BCDBC7069225C044C3D97BB99B</td>\n",
       "      <td>1</td>\n",
       "      <td>08:23</td>\n",
       "      <td>08:52</td>\n",
       "      <td>紅樹林</td>\n",
       "      <td>唭哩岸</td>\n",
       "    </tr>\n",
       "    <tr>\n",
       "      <th>175877</th>\n",
       "      <td>0007C21A2EE4A9B4BB4B4C0517B163E8</td>\n",
       "      <td>1</td>\n",
       "      <td>07:34</td>\n",
       "      <td>08:10</td>\n",
       "      <td>台北101/世貿</td>\n",
       "      <td>行天宮</td>\n",
       "    </tr>\n",
       "    <tr>\n",
       "      <th>11695</th>\n",
       "      <td>0007C21A2EE4A9B4BB4B4C0517B163E8</td>\n",
       "      <td>1</td>\n",
       "      <td>20:27</td>\n",
       "      <td>20:52</td>\n",
       "      <td>行天宮</td>\n",
       "      <td>台北101/世貿</td>\n",
       "    </tr>\n",
       "    <tr>\n",
       "      <th>77003</th>\n",
       "      <td>00087CB12E47E292518F5EEF8D1F8A6C</td>\n",
       "      <td>6</td>\n",
       "      <td>21:07</td>\n",
       "      <td>21:41</td>\n",
       "      <td>中正紀念堂</td>\n",
       "      <td>關渡</td>\n",
       "    </tr>\n",
       "    <tr>\n",
       "      <th>97020</th>\n",
       "      <td>00087CB12E47E292518F5EEF8D1F8A6C</td>\n",
       "      <td>6</td>\n",
       "      <td>07:07</td>\n",
       "      <td>07:46</td>\n",
       "      <td>關渡</td>\n",
       "      <td>中正紀念堂</td>\n",
       "    </tr>\n",
       "  </tbody>\n",
       "</table>\n",
       "</div>"
      ],
      "text/plain": [
       "                                      卡號  卡種   進站時間   出站時間      進站站名      出站站名\n",
       "179978  0000EABB9067C31973979766C9583BAD   1  07:36  07:40       後山埤        永春\n",
       "119537  0000EABB9067C31973979766C9583BAD   1  07:16  07:22        永春       後山埤\n",
       "78943   00068CA49EBFAE4489056806C93DD5BE   1  21:08  21:41      南京三民       南勢角\n",
       "446897  00068CA49EBFAE4489056806C93DD5BE   1  08:40  09:08       南勢角      南京三民\n",
       "88911   000731BCDBC7069225C044C3D97BB99B   1  21:13  21:33       唭哩岸       紅樹林\n",
       "380008  000731BCDBC7069225C044C3D97BB99B   1  08:23  08:52       紅樹林       唭哩岸\n",
       "175877  0007C21A2EE4A9B4BB4B4C0517B163E8   1  07:34  08:10  台北101/世貿       行天宮\n",
       "11695   0007C21A2EE4A9B4BB4B4C0517B163E8   1  20:27  20:52       行天宮  台北101/世貿\n",
       "77003   00087CB12E47E292518F5EEF8D1F8A6C   6  21:07  21:41     中正紀念堂        關渡\n",
       "97020   00087CB12E47E292518F5EEF8D1F8A6C   6  07:07  07:46        關渡     中正紀念堂"
      ]
     },
     "execution_count": 23,
     "metadata": {},
     "output_type": "execute_result"
    }
   ],
   "source": [
    "df_1_del_firstlast.head(10)"
   ]
  },
  {
   "cell_type": "code",
   "execution_count": 24,
   "metadata": {},
   "outputs": [],
   "source": [
    "df_1_del_firstlast.to_csv(\"C:/Users/USER/Desktop/0315運具資料/無單筆_無同站_無怪時間_頭尾相同.csv\")"
   ]
  },
  {
   "cell_type": "code",
   "execution_count": 25,
   "metadata": {},
   "outputs": [
    {
     "data": {
      "text/plain": [
       "(60900, 6)"
      ]
     },
     "execution_count": 25,
     "metadata": {},
     "output_type": "execute_result"
    }
   ],
   "source": [
    "df_1_del_firstlast.shape"
   ]
  }
 ],
 "metadata": {
  "kernelspec": {
   "display_name": "Python 3",
   "language": "python",
   "name": "python3"
  },
  "language_info": {
   "codemirror_mode": {
    "name": "ipython",
    "version": 3
   },
   "file_extension": ".py",
   "mimetype": "text/x-python",
   "name": "python",
   "nbconvert_exporter": "python",
   "pygments_lexer": "ipython3",
   "version": "3.6.4"
  }
 },
 "nbformat": 4,
 "nbformat_minor": 2
}
