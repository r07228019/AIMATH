{
 "cells": [
  {
   "cell_type": "code",
   "execution_count": 2,
   "metadata": {},
   "outputs": [],
   "source": [
    "import pandas as pd\n",
    "import numpy as np\n",
    "from collections import Counter\n",
    "import datetime"
   ]
  },
  {
   "cell_type": "markdown",
   "metadata": {},
   "source": [
    "# 要的資料(已刪除怪時間)"
   ]
  },
  {
   "cell_type": "code",
   "execution_count": 3,
   "metadata": {},
   "outputs": [
    {
     "data": {
      "text/html": [
       "<div>\n",
       "<style scoped>\n",
       "    .dataframe tbody tr th:only-of-type {\n",
       "        vertical-align: middle;\n",
       "    }\n",
       "\n",
       "    .dataframe tbody tr th {\n",
       "        vertical-align: top;\n",
       "    }\n",
       "\n",
       "    .dataframe thead th {\n",
       "        text-align: right;\n",
       "    }\n",
       "</style>\n",
       "<table border=\"1\" class=\"dataframe\">\n",
       "  <thead>\n",
       "    <tr style=\"text-align: right;\">\n",
       "      <th></th>\n",
       "      <th>卡號</th>\n",
       "      <th>卡種</th>\n",
       "      <th>進站時間</th>\n",
       "      <th>出站時間</th>\n",
       "      <th>進站站名</th>\n",
       "      <th>出站站名</th>\n",
       "    </tr>\n",
       "  </thead>\n",
       "  <tbody>\n",
       "    <tr>\n",
       "      <th>0</th>\n",
       "      <td>4EAA7E5DF9ABF31C25C044C3D97BB99B</td>\n",
       "      <td>1</td>\n",
       "      <td>2018/3/15 00:00</td>\n",
       "      <td>2018/3/15 00:03</td>\n",
       "      <td>中山</td>\n",
       "      <td>台北車站</td>\n",
       "    </tr>\n",
       "    <tr>\n",
       "      <th>1</th>\n",
       "      <td>692F806BA592B4D71D860EA4A6FDF776</td>\n",
       "      <td>1</td>\n",
       "      <td>2018/3/15 00:00</td>\n",
       "      <td>2018/3/15 00:07</td>\n",
       "      <td>景美</td>\n",
       "      <td>大坪林</td>\n",
       "    </tr>\n",
       "    <tr>\n",
       "      <th>2</th>\n",
       "      <td>5ADE62B16DF06DCC73979766C9583BAD</td>\n",
       "      <td>1</td>\n",
       "      <td>2018/3/15 00:00</td>\n",
       "      <td>2018/3/15 00:07</td>\n",
       "      <td>南港軟體園區</td>\n",
       "      <td>葫洲</td>\n",
       "    </tr>\n",
       "    <tr>\n",
       "      <th>3</th>\n",
       "      <td>5DBBD10BB6CE5FB1818256B728A1AF4F</td>\n",
       "      <td>1</td>\n",
       "      <td>2018/3/15 00:00</td>\n",
       "      <td>2018/3/15 00:07</td>\n",
       "      <td>台北車站</td>\n",
       "      <td>中正紀念堂</td>\n",
       "    </tr>\n",
       "    <tr>\n",
       "      <th>4</th>\n",
       "      <td>670A0867B357411F25C044C3D97BB99B</td>\n",
       "      <td>1</td>\n",
       "      <td>2018/3/15 00:00</td>\n",
       "      <td>2018/3/15 00:07</td>\n",
       "      <td>台北車站</td>\n",
       "      <td>中正紀念堂</td>\n",
       "    </tr>\n",
       "    <tr>\n",
       "      <th>5</th>\n",
       "      <td>997F2CDD258A512D3C0CD0171B4868F5</td>\n",
       "      <td>1</td>\n",
       "      <td>2018/3/15 00:00</td>\n",
       "      <td>2018/3/15 00:08</td>\n",
       "      <td>台北車站</td>\n",
       "      <td>西門</td>\n",
       "    </tr>\n",
       "    <tr>\n",
       "      <th>6</th>\n",
       "      <td>612D9882EF211EF9A85E5D42186C3DA3</td>\n",
       "      <td>1</td>\n",
       "      <td>2018/3/15 00:00</td>\n",
       "      <td>2018/3/15 00:08</td>\n",
       "      <td>忠孝敦化</td>\n",
       "      <td>永春</td>\n",
       "    </tr>\n",
       "    <tr>\n",
       "      <th>7</th>\n",
       "      <td>BD09011AE0C16096268824DC1A5F3F43</td>\n",
       "      <td>6</td>\n",
       "      <td>2018/3/15 00:00</td>\n",
       "      <td>2018/3/15 00:08</td>\n",
       "      <td>板橋</td>\n",
       "      <td>海山</td>\n",
       "    </tr>\n",
       "    <tr>\n",
       "      <th>8</th>\n",
       "      <td>1952E9E52F57B95925C044C3D97BB99B</td>\n",
       "      <td>9</td>\n",
       "      <td>2018/3/15 00:00</td>\n",
       "      <td>2018/3/15 00:08</td>\n",
       "      <td>龍山寺</td>\n",
       "      <td>西門</td>\n",
       "    </tr>\n",
       "    <tr>\n",
       "      <th>9</th>\n",
       "      <td>6F18837E7116F5113C0CD0171B4868F5</td>\n",
       "      <td>1</td>\n",
       "      <td>2018/3/15 00:00</td>\n",
       "      <td>2018/3/15 00:10</td>\n",
       "      <td>台北車站</td>\n",
       "      <td>古亭</td>\n",
       "    </tr>\n",
       "  </tbody>\n",
       "</table>\n",
       "</div>"
      ],
      "text/plain": [
       "                                 卡號  卡種             進站時間             出站時間  \\\n",
       "0  4EAA7E5DF9ABF31C25C044C3D97BB99B   1  2018/3/15 00:00  2018/3/15 00:03   \n",
       "1  692F806BA592B4D71D860EA4A6FDF776   1  2018/3/15 00:00  2018/3/15 00:07   \n",
       "2  5ADE62B16DF06DCC73979766C9583BAD   1  2018/3/15 00:00  2018/3/15 00:07   \n",
       "3  5DBBD10BB6CE5FB1818256B728A1AF4F   1  2018/3/15 00:00  2018/3/15 00:07   \n",
       "4  670A0867B357411F25C044C3D97BB99B   1  2018/3/15 00:00  2018/3/15 00:07   \n",
       "5  997F2CDD258A512D3C0CD0171B4868F5   1  2018/3/15 00:00  2018/3/15 00:08   \n",
       "6  612D9882EF211EF9A85E5D42186C3DA3   1  2018/3/15 00:00  2018/3/15 00:08   \n",
       "7  BD09011AE0C16096268824DC1A5F3F43   6  2018/3/15 00:00  2018/3/15 00:08   \n",
       "8  1952E9E52F57B95925C044C3D97BB99B   9  2018/3/15 00:00  2018/3/15 00:08   \n",
       "9  6F18837E7116F5113C0CD0171B4868F5   1  2018/3/15 00:00  2018/3/15 00:10   \n",
       "\n",
       "     進站站名   出站站名  \n",
       "0      中山   台北車站  \n",
       "1      景美    大坪林  \n",
       "2  南港軟體園區     葫洲  \n",
       "3    台北車站  中正紀念堂  \n",
       "4    台北車站  中正紀念堂  \n",
       "5    台北車站     西門  \n",
       "6    忠孝敦化     永春  \n",
       "7      板橋     海山  \n",
       "8     龍山寺     西門  \n",
       "9    台北車站     古亭  "
      ]
     },
     "execution_count": 3,
     "metadata": {},
     "output_type": "execute_result"
    }
   ],
   "source": [
    "df1 = pd.read_csv(\"C:/Users/USER/Desktop/0315運具資料/0315_mrt_1.csv\", engine='python')\n",
    "df2 = pd.read_csv(\"C:/Users/USER/Desktop/0315運具資料/0315_mrt_2.csv\", engine='python')\n",
    "df3 = pd.read_csv(\"C:/Users/USER/Desktop/0315運具資料/0315_mrt_3.csv\", engine='python')\n",
    "\n",
    "df = pd.concat([df1, df2, df3])\n",
    "df = df.reset_index(drop=True)\n",
    "df.head(10)"
   ]
  },
  {
   "cell_type": "markdown",
   "metadata": {},
   "source": [
    "## 刪除凌晨、同站進出及只有一次的紀錄"
   ]
  },
  {
   "cell_type": "code",
   "execution_count": 4,
   "metadata": {},
   "outputs": [
    {
     "data": {
      "text/plain": [
       "994429"
      ]
     },
     "execution_count": 4,
     "metadata": {},
     "output_type": "execute_result"
    }
   ],
   "source": [
    "df = df.loc[df['出站時間'] >= '2018/3/15 05:30']\n",
    "df = df.loc[df['進站站名'] != df['出站站名']]\n",
    "result = Counter(df['卡號']) # 看每個卡號出現幾次\n",
    "len(result)"
   ]
  },
  {
   "cell_type": "code",
   "execution_count": 64,
   "metadata": {},
   "outputs": [
    {
     "name": "stdout",
     "output_type": "stream",
     "text": [
      "                                    卡號   卡種             進站時間             出站時間  \\\n",
      "3538  5DBC2CB150945296A24EBEEFD30BA8D2  129  2018/3/15 05:30  2018/3/15 06:22   \n",
      "3539  1DCEE93118CE1B0FD988060A0F580936    2  2018/3/15 05:31  2018/3/15 06:33   \n",
      "3541  B48E4E2B9A6D01CCBA30602405CFB44A    1  2018/3/15 05:31  2018/3/15 06:48   \n",
      "3542  CE362EC2BDED2467198E57A6F07C8FE8    1  2018/3/15 05:32  2018/3/15 06:03   \n",
      "3543  F19F5F5248A857CD95BC1EA72255A32D    1  2018/3/15 05:32  2018/3/15 06:34   \n",
      "3545  701CE073A3A6343273979766C9583BAD    2  2018/3/15 05:33  2018/3/15 06:16   \n",
      "3548  DED0B025B9FE2084B584C801467FB4E7    2  2018/3/15 05:33  2018/3/15 06:39   \n",
      "3549  C5C50C307C4B8E1AFBFD76602BB80929    1  2018/3/15 05:33  2018/3/15 06:42   \n",
      "3550  09C8C76193B9AE643C0CD0171B4868F5    1  2018/3/15 05:34  2018/3/15 06:14   \n",
      "3552  F0A72039BA2AAE81DC96B3BABAFED5B0    1  2018/3/15 05:34  2018/3/15 06:19   \n",
      "\n",
      "       進站站名   出站站名  \n",
      "3538  中正紀念堂     新店  \n",
      "3539     輔大     石牌  \n",
      "3541     輔大  南港展覽館  \n",
      "3542     古亭     東門  \n",
      "3543     頂埔   南京復興  \n",
      "3545    江子翠   忠孝復興  \n",
      "3548     輔大  台北小巨蛋  \n",
      "3549     頂埔     昆陽  \n",
      "3550     頂埔     板橋  \n",
      "3552     新埔   南京復興  \n",
      "510202\n"
     ]
    }
   ],
   "source": [
    "r = [e for e in result if result[e] >= 2]\n",
    "dff = df.loc[df['卡號'].isin(r)]\n",
    "print(dff.head(10))\n",
    "print(len(Counter(dff['卡號'])))"
   ]
  },
  {
   "cell_type": "markdown",
   "metadata": {},
   "source": [
    "## 讀取怪時間的檔案，把有在這裏面的卡號也刪掉"
   ]
  },
  {
   "cell_type": "code",
   "execution_count": 6,
   "metadata": {},
   "outputs": [
    {
     "data": {
      "text/html": [
       "<div>\n",
       "<style scoped>\n",
       "    .dataframe tbody tr th:only-of-type {\n",
       "        vertical-align: middle;\n",
       "    }\n",
       "\n",
       "    .dataframe tbody tr th {\n",
       "        vertical-align: top;\n",
       "    }\n",
       "\n",
       "    .dataframe thead th {\n",
       "        text-align: right;\n",
       "    }\n",
       "</style>\n",
       "<table border=\"1\" class=\"dataframe\">\n",
       "  <thead>\n",
       "    <tr style=\"text-align: right;\">\n",
       "      <th></th>\n",
       "      <th>卡號</th>\n",
       "      <th>卡種</th>\n",
       "      <th>進站時間</th>\n",
       "      <th>出站時間</th>\n",
       "      <th>進站站名</th>\n",
       "      <th>出站站名</th>\n",
       "    </tr>\n",
       "  </thead>\n",
       "  <tbody>\n",
       "    <tr>\n",
       "      <th>3538</th>\n",
       "      <td>5DBC2CB150945296A24EBEEFD30BA8D2</td>\n",
       "      <td>129</td>\n",
       "      <td>2018/3/15 05:30</td>\n",
       "      <td>2018/3/15 06:22</td>\n",
       "      <td>中正紀念堂</td>\n",
       "      <td>新店</td>\n",
       "    </tr>\n",
       "    <tr>\n",
       "      <th>3539</th>\n",
       "      <td>1DCEE93118CE1B0FD988060A0F580936</td>\n",
       "      <td>2</td>\n",
       "      <td>2018/3/15 05:31</td>\n",
       "      <td>2018/3/15 06:33</td>\n",
       "      <td>輔大</td>\n",
       "      <td>石牌</td>\n",
       "    </tr>\n",
       "    <tr>\n",
       "      <th>3541</th>\n",
       "      <td>B48E4E2B9A6D01CCBA30602405CFB44A</td>\n",
       "      <td>1</td>\n",
       "      <td>2018/3/15 05:31</td>\n",
       "      <td>2018/3/15 06:48</td>\n",
       "      <td>輔大</td>\n",
       "      <td>南港展覽館</td>\n",
       "    </tr>\n",
       "    <tr>\n",
       "      <th>3542</th>\n",
       "      <td>CE362EC2BDED2467198E57A6F07C8FE8</td>\n",
       "      <td>1</td>\n",
       "      <td>2018/3/15 05:32</td>\n",
       "      <td>2018/3/15 06:03</td>\n",
       "      <td>古亭</td>\n",
       "      <td>東門</td>\n",
       "    </tr>\n",
       "    <tr>\n",
       "      <th>3543</th>\n",
       "      <td>F19F5F5248A857CD95BC1EA72255A32D</td>\n",
       "      <td>1</td>\n",
       "      <td>2018/3/15 05:32</td>\n",
       "      <td>2018/3/15 06:34</td>\n",
       "      <td>頂埔</td>\n",
       "      <td>南京復興</td>\n",
       "    </tr>\n",
       "    <tr>\n",
       "      <th>3545</th>\n",
       "      <td>701CE073A3A6343273979766C9583BAD</td>\n",
       "      <td>2</td>\n",
       "      <td>2018/3/15 05:33</td>\n",
       "      <td>2018/3/15 06:16</td>\n",
       "      <td>江子翠</td>\n",
       "      <td>忠孝復興</td>\n",
       "    </tr>\n",
       "    <tr>\n",
       "      <th>3548</th>\n",
       "      <td>DED0B025B9FE2084B584C801467FB4E7</td>\n",
       "      <td>2</td>\n",
       "      <td>2018/3/15 05:33</td>\n",
       "      <td>2018/3/15 06:39</td>\n",
       "      <td>輔大</td>\n",
       "      <td>台北小巨蛋</td>\n",
       "    </tr>\n",
       "    <tr>\n",
       "      <th>3549</th>\n",
       "      <td>C5C50C307C4B8E1AFBFD76602BB80929</td>\n",
       "      <td>1</td>\n",
       "      <td>2018/3/15 05:33</td>\n",
       "      <td>2018/3/15 06:42</td>\n",
       "      <td>頂埔</td>\n",
       "      <td>昆陽</td>\n",
       "    </tr>\n",
       "    <tr>\n",
       "      <th>3550</th>\n",
       "      <td>09C8C76193B9AE643C0CD0171B4868F5</td>\n",
       "      <td>1</td>\n",
       "      <td>2018/3/15 05:34</td>\n",
       "      <td>2018/3/15 06:14</td>\n",
       "      <td>頂埔</td>\n",
       "      <td>板橋</td>\n",
       "    </tr>\n",
       "    <tr>\n",
       "      <th>3552</th>\n",
       "      <td>F0A72039BA2AAE81DC96B3BABAFED5B0</td>\n",
       "      <td>1</td>\n",
       "      <td>2018/3/15 05:34</td>\n",
       "      <td>2018/3/15 06:19</td>\n",
       "      <td>新埔</td>\n",
       "      <td>南京復興</td>\n",
       "    </tr>\n",
       "  </tbody>\n",
       "</table>\n",
       "</div>"
      ],
      "text/plain": [
       "                                    卡號   卡種             進站時間             出站時間  \\\n",
       "3538  5DBC2CB150945296A24EBEEFD30BA8D2  129  2018/3/15 05:30  2018/3/15 06:22   \n",
       "3539  1DCEE93118CE1B0FD988060A0F580936    2  2018/3/15 05:31  2018/3/15 06:33   \n",
       "3541  B48E4E2B9A6D01CCBA30602405CFB44A    1  2018/3/15 05:31  2018/3/15 06:48   \n",
       "3542  CE362EC2BDED2467198E57A6F07C8FE8    1  2018/3/15 05:32  2018/3/15 06:03   \n",
       "3543  F19F5F5248A857CD95BC1EA72255A32D    1  2018/3/15 05:32  2018/3/15 06:34   \n",
       "3545  701CE073A3A6343273979766C9583BAD    2  2018/3/15 05:33  2018/3/15 06:16   \n",
       "3548  DED0B025B9FE2084B584C801467FB4E7    2  2018/3/15 05:33  2018/3/15 06:39   \n",
       "3549  C5C50C307C4B8E1AFBFD76602BB80929    1  2018/3/15 05:33  2018/3/15 06:42   \n",
       "3550  09C8C76193B9AE643C0CD0171B4868F5    1  2018/3/15 05:34  2018/3/15 06:14   \n",
       "3552  F0A72039BA2AAE81DC96B3BABAFED5B0    1  2018/3/15 05:34  2018/3/15 06:19   \n",
       "\n",
       "       進站站名   出站站名  \n",
       "3538  中正紀念堂     新店  \n",
       "3539     輔大     石牌  \n",
       "3541     輔大  南港展覽館  \n",
       "3542     古亭     東門  \n",
       "3543     頂埔   南京復興  \n",
       "3545    江子翠   忠孝復興  \n",
       "3548     輔大  台北小巨蛋  \n",
       "3549     頂埔     昆陽  \n",
       "3550     頂埔     板橋  \n",
       "3552     新埔   南京復興  "
      ]
     },
     "execution_count": 6,
     "metadata": {},
     "output_type": "execute_result"
    }
   ],
   "source": [
    "df_d1 = pd.read_csv(\"C:/Users/USER/Desktop/0315運具資料/0315_mrtnot_1.csv\", engine='python')\n",
    "df_d2 = pd.read_csv(\"C:/Users/USER/Desktop/0315運具資料/0315_mrtnot_2.csv\", engine='python')\n",
    "df_d = pd.concat([df_d1, df_d2])\n",
    "\n",
    "dfff = dff.loc[~dff['卡號'].isin(df_d['卡號'])]\n",
    "dfff.head(10)"
   ]
  },
  {
   "cell_type": "code",
   "execution_count": 70,
   "metadata": {},
   "outputs": [
    {
     "data": {
      "text/plain": [
       "453671"
      ]
     },
     "execution_count": 70,
     "metadata": {},
     "output_type": "execute_result"
    }
   ],
   "source": [
    "len(Counter(dfff['卡號']))"
   ]
  },
  {
   "cell_type": "markdown",
   "metadata": {},
   "source": [
    "# **4個藍色禁止的卡號**"
   ]
  },
  {
   "cell_type": "code",
   "execution_count": 47,
   "metadata": {},
   "outputs": [],
   "source": [
    "# 1\n",
    "result_d = Counter(df_d['卡號'])\n",
    "delete_card_id = [e for e in result_d if result_d[e] >= 2]\n",
    "df_blue = df_d.loc[df_d['卡號'].isin(delete_card_id)]\n",
    "d1 = df_blue"
   ]
  },
  {
   "cell_type": "code",
   "execution_count": 8,
   "metadata": {},
   "outputs": [],
   "source": [
    "dfff_1 = dfff"
   ]
  },
  {
   "cell_type": "code",
   "execution_count": 9,
   "metadata": {},
   "outputs": [],
   "source": [
    "dfff_1.to_csv(\"C:/Users/USER/Desktop/0315運具資料/無單筆_無同站_無怪時間_全卡種.csv\")"
   ]
  },
  {
   "cell_type": "markdown",
   "metadata": {},
   "source": [
    "## 取出卡種為1者(不要了)"
   ]
  },
  {
   "cell_type": "code",
   "execution_count": 10,
   "metadata": {},
   "outputs": [],
   "source": [
    "#dfff_1 = dfff.loc[dfff['卡種'] == 1] # 卡種為1"
   ]
  },
  {
   "cell_type": "code",
   "execution_count": 11,
   "metadata": {},
   "outputs": [],
   "source": [
    "#dfff_1.to_csv(\"C:/Users/USER/Desktop/0315運具資料/無單筆_無怪時間_卡種1.csv\")"
   ]
  },
  {
   "cell_type": "code",
   "execution_count": 12,
   "metadata": {},
   "outputs": [],
   "source": [
    "#dfff_1.shape"
   ]
  },
  {
   "cell_type": "markdown",
   "metadata": {},
   "source": [
    "## 刪除第一次出站是'輔大', '唭哩岸', '大湖公園', '竹圍', '頂埔'的紀錄"
   ]
  },
  {
   "cell_type": "code",
   "execution_count": 13,
   "metadata": {},
   "outputs": [
    {
     "data": {
      "text/plain": [
       "\"for i in dfff_1_sort['卡號']:\\n    if i not in card_id:\\n        card_id.append(i)\""
      ]
     },
     "execution_count": 13,
     "metadata": {},
     "output_type": "execute_result"
    }
   ],
   "source": [
    "dfff_1_sort = dfff_1.sort_values(by=['卡號', '進站時間'])\n",
    "\n",
    "card_id = list(set(list(dfff_1_sort['卡號']))) # 取出卡號的unique\n",
    "\"\"\"for i in dfff_1_sort['卡號']:\n",
    "    if i not in card_id:\n",
    "        card_id.append(i)\"\"\""
   ]
  },
  {
   "cell_type": "code",
   "execution_count": 14,
   "metadata": {},
   "outputs": [
    {
     "data": {
      "text/plain": [
       "'\\nfor i, j in zip(card_id, first_id):\\n    if dfff_1_sort.iloc[j, 5] in del_stations:\\n        del_card_id.append(i)'"
      ]
     },
     "execution_count": 14,
     "metadata": {},
     "output_type": "execute_result"
    }
   ],
   "source": [
    "del_stations = ['輔大', '唭哩岸', '大湖公園', '竹圍', '頂埔']\n",
    "dfff_1_sort_ds = dfff_1_sort.loc[dfff_1_sort['出站站名'].isin(del_stations)]\n",
    "card_idd = list(set(list(dfff_1_sort_ds['卡號'])))\n",
    "dfff_1_sort_ds1 = dfff_1_sort.loc[dfff_1_sort['卡號'].isin(card_idd)]\n",
    "dfff_1_sort_ds1 = dfff_1_sort_ds1.sort_values(by=['卡號', '進站時間'])\n",
    "card_iddd = list(set(list(dfff_1_sort_ds1['卡號'])))\n",
    "del_card_id = [e for e in card_iddd if dfff_1_sort_ds1.iloc[list(dfff_1_sort_ds1['卡號']).index(e), 5] in del_stations]\n",
    "\"\"\"\n",
    "for i, j in zip(card_id, first_id):\n",
    "    if dfff_1_sort.iloc[j, 5] in del_stations:\n",
    "        del_card_id.append(i)\"\"\""
   ]
  },
  {
   "cell_type": "code",
   "execution_count": 65,
   "metadata": {},
   "outputs": [
    {
     "data": {
      "text/plain": [
       "7070"
      ]
     },
     "execution_count": 65,
     "metadata": {},
     "output_type": "execute_result"
    }
   ],
   "source": [
    "len(del_card_id)"
   ]
  },
  {
   "cell_type": "code",
   "execution_count": 15,
   "metadata": {},
   "outputs": [
    {
     "data": {
      "text/plain": [
       "(963512, 6)"
      ]
     },
     "execution_count": 15,
     "metadata": {},
     "output_type": "execute_result"
    }
   ],
   "source": [
    "dfff_1_sort.shape"
   ]
  },
  {
   "cell_type": "code",
   "execution_count": 16,
   "metadata": {},
   "outputs": [
    {
     "data": {
      "text/plain": [
       "(948547, 6)"
      ]
     },
     "execution_count": 16,
     "metadata": {},
     "output_type": "execute_result"
    }
   ],
   "source": [
    "dfff_1_sort_del = dfff_1_sort.loc[~dfff_1_sort['卡號'].isin(del_card_id)]\n",
    "dfff_1_sort_del.shape"
   ]
  },
  {
   "cell_type": "markdown",
   "metadata": {},
   "source": [
    "# 4個藍色禁止的卡號"
   ]
  },
  {
   "cell_type": "code",
   "execution_count": 48,
   "metadata": {},
   "outputs": [],
   "source": [
    "# 2\n",
    "d2 = dfff_1.loc[dfff_1['卡號'].isin(del_card_id)]\n",
    "df_blue = pd.concat([df_blue, d2])\n",
    "df_blue = df_blue.reset_index(drop=True)"
   ]
  },
  {
   "cell_type": "markdown",
   "metadata": {},
   "source": [
    "## 找出第一次進站等於最後一次出站、第一次出站等於第二次進站(原變數名稱簡化為df_1_del)"
   ]
  },
  {
   "cell_type": "code",
   "execution_count": 18,
   "metadata": {},
   "outputs": [
    {
     "data": {
      "text/plain": [
       "\"for i in df_1_del['卡號']:\\n    if i not in card_id2:\\n        card_id2.append(i)\""
      ]
     },
     "execution_count": 18,
     "metadata": {},
     "output_type": "execute_result"
    }
   ],
   "source": [
    "df_1_del = dfff_1_sort_del # 原變數名稱簡化為df_1_del\n",
    "\n",
    "card_id2 = list(set(list(df_1_del['卡號']))) # 取出卡號的unique\n",
    "\"\"\"for i in df_1_del['卡號']:\n",
    "    if i not in card_id2:\n",
    "        card_id2.append(i)\"\"\"\n",
    "        \n",
    "# del_card_id2 = [e for e in card_id2 if df_1_del.iloc[list(df_1_del['卡號']).index(e), 4] != df_1_del.iloc[, 5]]\n"
   ]
  },
  {
   "cell_type": "code",
   "execution_count": 68,
   "metadata": {},
   "outputs": [
    {
     "data": {
      "text/plain": [
       "446601"
      ]
     },
     "execution_count": 68,
     "metadata": {},
     "output_type": "execute_result"
    }
   ],
   "source": [
    "len(Counter(dfff_1_sort_del['卡號']))"
   ]
  },
  {
   "cell_type": "code",
   "execution_count": 19,
   "metadata": {},
   "outputs": [
    {
     "data": {
      "text/html": [
       "<div>\n",
       "<style scoped>\n",
       "    .dataframe tbody tr th:only-of-type {\n",
       "        vertical-align: middle;\n",
       "    }\n",
       "\n",
       "    .dataframe tbody tr th {\n",
       "        vertical-align: top;\n",
       "    }\n",
       "\n",
       "    .dataframe thead th {\n",
       "        text-align: right;\n",
       "    }\n",
       "</style>\n",
       "<table border=\"1\" class=\"dataframe\">\n",
       "  <thead>\n",
       "    <tr style=\"text-align: right;\">\n",
       "      <th></th>\n",
       "      <th>卡號</th>\n",
       "      <th>卡種</th>\n",
       "      <th>進站時間</th>\n",
       "      <th>出站時間</th>\n",
       "      <th>進站站名</th>\n",
       "      <th>出站站名</th>\n",
       "    </tr>\n",
       "  </thead>\n",
       "  <tbody>\n",
       "    <tr>\n",
       "      <th>426884</th>\n",
       "      <td>00001828EC89F17789056806C93DD5BE</td>\n",
       "      <td>1</td>\n",
       "      <td>2018/3/15 08:35</td>\n",
       "      <td>2018/3/15 08:47</td>\n",
       "      <td>景安</td>\n",
       "      <td>古亭</td>\n",
       "    </tr>\n",
       "    <tr>\n",
       "      <th>988373</th>\n",
       "      <td>00001828EC89F17789056806C93DD5BE</td>\n",
       "      <td>1</td>\n",
       "      <td>2018/3/15 18:21</td>\n",
       "      <td>2018/3/15 18:40</td>\n",
       "      <td>古亭</td>\n",
       "      <td>景安</td>\n",
       "    </tr>\n",
       "    <tr>\n",
       "      <th>21236</th>\n",
       "      <td>00003BB606A8D4471CE3A1303DC0F97F</td>\n",
       "      <td>1</td>\n",
       "      <td>2018/3/15 06:20</td>\n",
       "      <td>2018/3/15 06:31</td>\n",
       "      <td>唭哩岸</td>\n",
       "      <td>北投</td>\n",
       "    </tr>\n",
       "    <tr>\n",
       "      <th>1514086</th>\n",
       "      <td>00003BB606A8D4471CE3A1303DC0F97F</td>\n",
       "      <td>1</td>\n",
       "      <td>2018/3/15 22:07</td>\n",
       "      <td>2018/3/15 22:14</td>\n",
       "      <td>北投</td>\n",
       "      <td>唭哩岸</td>\n",
       "    </tr>\n",
       "    <tr>\n",
       "      <th>988140</th>\n",
       "      <td>0000A959F2E22684577055C745EF9729</td>\n",
       "      <td>1</td>\n",
       "      <td>2018/3/15 18:21</td>\n",
       "      <td>2018/3/15 18:38</td>\n",
       "      <td>台北車站</td>\n",
       "      <td>信義安和</td>\n",
       "    </tr>\n",
       "    <tr>\n",
       "      <th>1151096</th>\n",
       "      <td>0000A959F2E22684577055C745EF9729</td>\n",
       "      <td>1</td>\n",
       "      <td>2018/3/15 19:05</td>\n",
       "      <td>2018/3/15 19:23</td>\n",
       "      <td>信義安和</td>\n",
       "      <td>台北車站</td>\n",
       "    </tr>\n",
       "    <tr>\n",
       "      <th>1054490</th>\n",
       "      <td>0000E23181935790F3BAD948933386B9</td>\n",
       "      <td>1</td>\n",
       "      <td>2018/3/15 18:37</td>\n",
       "      <td>2018/3/15 18:48</td>\n",
       "      <td>東門</td>\n",
       "      <td>古亭</td>\n",
       "    </tr>\n",
       "    <tr>\n",
       "      <th>1252265</th>\n",
       "      <td>0000E23181935790F3BAD948933386B9</td>\n",
       "      <td>1</td>\n",
       "      <td>2018/3/15 19:47</td>\n",
       "      <td>2018/3/15 20:08</td>\n",
       "      <td>古亭</td>\n",
       "      <td>忠孝新生</td>\n",
       "    </tr>\n",
       "    <tr>\n",
       "      <th>119537</th>\n",
       "      <td>0000EABB9067C31973979766C9583BAD</td>\n",
       "      <td>1</td>\n",
       "      <td>2018/3/15 07:16</td>\n",
       "      <td>2018/3/15 07:22</td>\n",
       "      <td>永春</td>\n",
       "      <td>後山埤</td>\n",
       "    </tr>\n",
       "    <tr>\n",
       "      <th>179978</th>\n",
       "      <td>0000EABB9067C31973979766C9583BAD</td>\n",
       "      <td>1</td>\n",
       "      <td>2018/3/15 07:36</td>\n",
       "      <td>2018/3/15 07:40</td>\n",
       "      <td>後山埤</td>\n",
       "      <td>永春</td>\n",
       "    </tr>\n",
       "  </tbody>\n",
       "</table>\n",
       "</div>"
      ],
      "text/plain": [
       "                                       卡號  卡種             進站時間  \\\n",
       "426884   00001828EC89F17789056806C93DD5BE   1  2018/3/15 08:35   \n",
       "988373   00001828EC89F17789056806C93DD5BE   1  2018/3/15 18:21   \n",
       "21236    00003BB606A8D4471CE3A1303DC0F97F   1  2018/3/15 06:20   \n",
       "1514086  00003BB606A8D4471CE3A1303DC0F97F   1  2018/3/15 22:07   \n",
       "988140   0000A959F2E22684577055C745EF9729   1  2018/3/15 18:21   \n",
       "1151096  0000A959F2E22684577055C745EF9729   1  2018/3/15 19:05   \n",
       "1054490  0000E23181935790F3BAD948933386B9   1  2018/3/15 18:37   \n",
       "1252265  0000E23181935790F3BAD948933386B9   1  2018/3/15 19:47   \n",
       "119537   0000EABB9067C31973979766C9583BAD   1  2018/3/15 07:16   \n",
       "179978   0000EABB9067C31973979766C9583BAD   1  2018/3/15 07:36   \n",
       "\n",
       "                    出站時間  進站站名  出站站名  \n",
       "426884   2018/3/15 08:47    景安    古亭  \n",
       "988373   2018/3/15 18:40    古亭    景安  \n",
       "21236    2018/3/15 06:31   唭哩岸    北投  \n",
       "1514086  2018/3/15 22:14    北投   唭哩岸  \n",
       "988140   2018/3/15 18:38  台北車站  信義安和  \n",
       "1151096  2018/3/15 19:23  信義安和  台北車站  \n",
       "1054490  2018/3/15 18:48    東門    古亭  \n",
       "1252265  2018/3/15 20:08    古亭  忠孝新生  \n",
       "119537   2018/3/15 07:22    永春   後山埤  \n",
       "179978   2018/3/15 07:40   後山埤    永春  "
      ]
     },
     "execution_count": 19,
     "metadata": {},
     "output_type": "execute_result"
    }
   ],
   "source": [
    "df_1_del = dfff_1_sort_del\n",
    "df_1_del.head(10)"
   ]
  },
  {
   "cell_type": "code",
   "execution_count": 38,
   "metadata": {},
   "outputs": [],
   "source": [
    "l = []\n",
    "\n",
    "for i in range(1, 45):\n",
    "    if i == 1:\n",
    "        card_id2_1 = card_id2[0: 16601]\n",
    "    else:\n",
    "        card_id2_1 = card_id2[6601 + (i - 1)*10000: 6601 + i*10000]\n",
    "    df_1_del_s = df_1_del.loc[df_1_del['卡號'].isin(card_id2_1)]\n",
    "    for j in card_id2_1:\n",
    "        a = df_1_del_s.loc[df_1_del_s['卡號'] == j]  #從unique叫出卡號\n",
    "        l.append((a.iloc[0, 4]==a.iloc[-1, 5]) & (a.iloc[0, 5]==a.iloc[1, 4]) )\n",
    "        #頭進站 == 尾出站\n",
    "        #第一次出站 == 第二次進站"
   ]
  },
  {
   "cell_type": "code",
   "execution_count": 72,
   "metadata": {},
   "outputs": [
    {
     "ename": "TypeError",
     "evalue": "'datetime.timedelta' object is not subscriptable",
     "output_type": "error",
     "traceback": [
      "\u001b[1;31m---------------------------------------------------------------------------\u001b[0m",
      "\u001b[1;31mTypeError\u001b[0m                                 Traceback (most recent call last)",
      "\u001b[1;32m<ipython-input-72-12b65711f1b9>\u001b[0m in \u001b[0;36m<module>\u001b[1;34m()\u001b[0m\n\u001b[0;32m      3\u001b[0m \u001b[0me\u001b[0m \u001b[1;33m=\u001b[0m \u001b[0mdatetime\u001b[0m\u001b[1;33m.\u001b[0m\u001b[0mdatetime\u001b[0m\u001b[1;33m.\u001b[0m\u001b[0mnow\u001b[0m\u001b[1;33m(\u001b[0m\u001b[1;33m)\u001b[0m\u001b[1;33m\u001b[0m\u001b[0m\n\u001b[0;32m      4\u001b[0m \u001b[0mes\u001b[0m \u001b[1;33m=\u001b[0m \u001b[0me\u001b[0m \u001b[1;33m-\u001b[0m \u001b[0ms\u001b[0m\u001b[1;33m\u001b[0m\u001b[0m\n\u001b[1;32m----> 5\u001b[1;33m \u001b[0mprint\u001b[0m\u001b[1;33m(\u001b[0m\u001b[0mes\u001b[0m\u001b[1;33m[\u001b[0m\u001b[1;36m5\u001b[0m\u001b[1;33m:\u001b[0m\u001b[1;33m:\u001b[0m\u001b[1;33m]\u001b[0m\u001b[1;33m)\u001b[0m\u001b[1;33m\u001b[0m\u001b[0m\n\u001b[0m",
      "\u001b[1;31mTypeError\u001b[0m: 'datetime.timedelta' object is not subscriptable"
     ]
    }
   ],
   "source": [
    "s = datetime.datetime.now()\n",
    "lkk = df_1_del_s.loc[df_1_del_s['卡號'] == '0000A959F2E22684577055C745EF9729']\n",
    "e = datetime.datetime.now()\n",
    "es = e - s\n",
    "print(es[5::])"
   ]
  },
  {
   "cell_type": "markdown",
   "metadata": {},
   "source": [
    "# 4個藍色禁止的卡號"
   ]
  },
  {
   "cell_type": "code",
   "execution_count": 49,
   "metadata": {},
   "outputs": [],
   "source": [
    "# 3\n",
    "l_reverse = list(np.logical_not(l))\n",
    "d3 = df_1_del.loc[df_1_del['卡號'].isin(np.array(card_id2)[l_reverse])]\n",
    "df_blue = pd.concat([df_blue, d3])\n",
    "df_blue = df_blue.reset_index(drop=True)\n",
    "#delete_card_id.extend(np.array(card_id2)[l_reverse])"
   ]
  },
  {
   "cell_type": "code",
   "execution_count": null,
   "metadata": {},
   "outputs": [],
   "source": [
    "card_id_firstlast = np.array(card_id2)[l]"
   ]
  },
  {
   "cell_type": "code",
   "execution_count": null,
   "metadata": {},
   "outputs": [],
   "source": [
    "df_1_del_firstlast = df_1_del.loc[df_1_del['卡號'].isin(card_id_firstlast)]"
   ]
  },
  {
   "cell_type": "code",
   "execution_count": null,
   "metadata": {},
   "outputs": [],
   "source": [
    "len(df_1_del_firstlast)"
   ]
  },
  {
   "cell_type": "code",
   "execution_count": null,
   "metadata": {},
   "outputs": [],
   "source": [
    "df_1_del_firstlast['進站時間'] = [e[10::] for e in df_1_del_firstlast['進站時間']]\n",
    "df_1_del_firstlast['出站時間'] = [e[10::] for e in df_1_del_firstlast['出站時間']]"
   ]
  },
  {
   "cell_type": "code",
   "execution_count": null,
   "metadata": {},
   "outputs": [],
   "source": [
    "df_1_del_firstlast.head(10)"
   ]
  },
  {
   "cell_type": "code",
   "execution_count": null,
   "metadata": {},
   "outputs": [],
   "source": [
    "df_1_del_firstlast.to_csv(\"C:/Users/USER/Desktop/0315運具資料/無單筆_無同站_無怪時間_頭尾相同.csv\")"
   ]
  },
  {
   "cell_type": "code",
   "execution_count": null,
   "metadata": {},
   "outputs": [],
   "source": [
    "df_1_del_firstlast.shape"
   ]
  },
  {
   "cell_type": "markdown",
   "metadata": {},
   "source": [
    "# 4個藍色禁止的卡號"
   ]
  },
  {
   "cell_type": "code",
   "execution_count": 50,
   "metadata": {},
   "outputs": [
    {
     "name": "stdout",
     "output_type": "stream",
     "text": [
      "(580427, 6)\n"
     ]
    },
    {
     "data": {
      "text/html": [
       "<div>\n",
       "<style scoped>\n",
       "    .dataframe tbody tr th:only-of-type {\n",
       "        vertical-align: middle;\n",
       "    }\n",
       "\n",
       "    .dataframe tbody tr th {\n",
       "        vertical-align: top;\n",
       "    }\n",
       "\n",
       "    .dataframe thead th {\n",
       "        text-align: right;\n",
       "    }\n",
       "</style>\n",
       "<table border=\"1\" class=\"dataframe\">\n",
       "  <thead>\n",
       "    <tr style=\"text-align: right;\">\n",
       "      <th></th>\n",
       "      <th>卡號</th>\n",
       "      <th>卡種</th>\n",
       "      <th>進站時間</th>\n",
       "      <th>出站時間</th>\n",
       "      <th>進站站名</th>\n",
       "      <th>出站站名</th>\n",
       "    </tr>\n",
       "  </thead>\n",
       "  <tbody>\n",
       "    <tr>\n",
       "      <th>0</th>\n",
       "      <td>6D9590F12CBCD2066AAA34966BE2CE28</td>\n",
       "      <td>4</td>\n",
       "      <td>2018/3/15 09:00</td>\n",
       "      <td>2018/3/15 09:01</td>\n",
       "      <td>東湖</td>\n",
       "      <td>東湖</td>\n",
       "    </tr>\n",
       "    <tr>\n",
       "      <th>1</th>\n",
       "      <td>DA18BCEFF3AB149401A8D61E752440BB</td>\n",
       "      <td>1</td>\n",
       "      <td>2018/3/15 09:00</td>\n",
       "      <td>2018/3/15 09:04</td>\n",
       "      <td>土城</td>\n",
       "      <td>土城</td>\n",
       "    </tr>\n",
       "    <tr>\n",
       "      <th>2</th>\n",
       "      <td>AC4CC19B879A3095C13B0F782DAAD9F8</td>\n",
       "      <td>4</td>\n",
       "      <td>2018/3/15 09:00</td>\n",
       "      <td>2018/3/15 09:04</td>\n",
       "      <td>菜寮</td>\n",
       "      <td>台北橋</td>\n",
       "    </tr>\n",
       "    <tr>\n",
       "      <th>3</th>\n",
       "      <td>3F6E33625D0A37DCF3BAD948933386B9</td>\n",
       "      <td>1</td>\n",
       "      <td>2018/3/15 09:00</td>\n",
       "      <td>2018/3/15 09:04</td>\n",
       "      <td>新莊</td>\n",
       "      <td>輔大</td>\n",
       "    </tr>\n",
       "    <tr>\n",
       "      <th>4</th>\n",
       "      <td>76F1787603908D2A885D30353824D5F1</td>\n",
       "      <td>1</td>\n",
       "      <td>2018/3/15 09:00</td>\n",
       "      <td>2018/3/15 09:04</td>\n",
       "      <td>芝山</td>\n",
       "      <td>明德</td>\n",
       "    </tr>\n",
       "  </tbody>\n",
       "</table>\n",
       "</div>"
      ],
      "text/plain": [
       "                                 卡號  卡種             進站時間             出站時間  \\\n",
       "0  6D9590F12CBCD2066AAA34966BE2CE28   4  2018/3/15 09:00  2018/3/15 09:01   \n",
       "1  DA18BCEFF3AB149401A8D61E752440BB   1  2018/3/15 09:00  2018/3/15 09:04   \n",
       "2  AC4CC19B879A3095C13B0F782DAAD9F8   4  2018/3/15 09:00  2018/3/15 09:04   \n",
       "3  3F6E33625D0A37DCF3BAD948933386B9   1  2018/3/15 09:00  2018/3/15 09:04   \n",
       "4  76F1787603908D2A885D30353824D5F1   1  2018/3/15 09:00  2018/3/15 09:04   \n",
       "\n",
       "  進站站名 出站站名  \n",
       "0   東湖   東湖  \n",
       "1   土城   土城  \n",
       "2   菜寮  台北橋  \n",
       "3   新莊   輔大  \n",
       "4   芝山   明德  "
      ]
     },
     "execution_count": 50,
     "metadata": {},
     "output_type": "execute_result"
    }
   ],
   "source": [
    "print(df_blue.shape)\n",
    "df_blue.head()"
   ]
  },
  {
   "cell_type": "markdown",
   "metadata": {},
   "source": [
    "# 跟賸豐的合起來"
   ]
  },
  {
   "cell_type": "code",
   "execution_count": 51,
   "metadata": {},
   "outputs": [
    {
     "data": {
      "text/html": [
       "<div>\n",
       "<style scoped>\n",
       "    .dataframe tbody tr th:only-of-type {\n",
       "        vertical-align: middle;\n",
       "    }\n",
       "\n",
       "    .dataframe tbody tr th {\n",
       "        vertical-align: top;\n",
       "    }\n",
       "\n",
       "    .dataframe thead th {\n",
       "        text-align: right;\n",
       "    }\n",
       "</style>\n",
       "<table border=\"1\" class=\"dataframe\">\n",
       "  <thead>\n",
       "    <tr style=\"text-align: right;\">\n",
       "      <th></th>\n",
       "      <th>Unnamed: 0</th>\n",
       "      <th>Unnamed: 0.1</th>\n",
       "      <th>Unnamed: 0.1.1</th>\n",
       "      <th>卡號</th>\n",
       "      <th>卡種</th>\n",
       "      <th>進站時間</th>\n",
       "      <th>出站時間</th>\n",
       "      <th>進站站名</th>\n",
       "      <th>出站站名</th>\n",
       "    </tr>\n",
       "  </thead>\n",
       "  <tbody>\n",
       "    <tr>\n",
       "      <th>0</th>\n",
       "      <td>4</td>\n",
       "      <td>4</td>\n",
       "      <td>988140</td>\n",
       "      <td>0000A959F2E22684577055C745EF9729</td>\n",
       "      <td>1</td>\n",
       "      <td>18:21</td>\n",
       "      <td>18:38</td>\n",
       "      <td>台北車站</td>\n",
       "      <td>信義安和</td>\n",
       "    </tr>\n",
       "    <tr>\n",
       "      <th>1</th>\n",
       "      <td>5</td>\n",
       "      <td>5</td>\n",
       "      <td>1151096</td>\n",
       "      <td>0000A959F2E22684577055C745EF9729</td>\n",
       "      <td>1</td>\n",
       "      <td>19:05</td>\n",
       "      <td>19:23</td>\n",
       "      <td>信義安和</td>\n",
       "      <td>台北車站</td>\n",
       "    </tr>\n",
       "    <tr>\n",
       "      <th>2</th>\n",
       "      <td>6</td>\n",
       "      <td>8</td>\n",
       "      <td>119537</td>\n",
       "      <td>0000EABB9067C31973979766C9583BAD</td>\n",
       "      <td>1</td>\n",
       "      <td>07:16</td>\n",
       "      <td>07:22</td>\n",
       "      <td>永春</td>\n",
       "      <td>後山埤</td>\n",
       "    </tr>\n",
       "    <tr>\n",
       "      <th>3</th>\n",
       "      <td>7</td>\n",
       "      <td>9</td>\n",
       "      <td>179978</td>\n",
       "      <td>0000EABB9067C31973979766C9583BAD</td>\n",
       "      <td>1</td>\n",
       "      <td>07:36</td>\n",
       "      <td>07:40</td>\n",
       "      <td>後山埤</td>\n",
       "      <td>永春</td>\n",
       "    </tr>\n",
       "    <tr>\n",
       "      <th>4</th>\n",
       "      <td>18</td>\n",
       "      <td>35</td>\n",
       "      <td>945157</td>\n",
       "      <td>0002D0CE4DA9D320885D30353824D5F1</td>\n",
       "      <td>1</td>\n",
       "      <td>18:12</td>\n",
       "      <td>18:46</td>\n",
       "      <td>永寧</td>\n",
       "      <td>善導寺</td>\n",
       "    </tr>\n",
       "  </tbody>\n",
       "</table>\n",
       "</div>"
      ],
      "text/plain": [
       "   Unnamed: 0  Unnamed: 0.1  Unnamed: 0.1.1                                卡號  \\\n",
       "0           4             4          988140  0000A959F2E22684577055C745EF9729   \n",
       "1           5             5         1151096  0000A959F2E22684577055C745EF9729   \n",
       "2           6             8          119537  0000EABB9067C31973979766C9583BAD   \n",
       "3           7             9          179978  0000EABB9067C31973979766C9583BAD   \n",
       "4          18            35          945157  0002D0CE4DA9D320885D30353824D5F1   \n",
       "\n",
       "   卡種   進站時間   出站時間  進站站名  出站站名  \n",
       "0   1  18:21  18:38  台北車站  信義安和  \n",
       "1   1  19:05  19:23  信義安和  台北車站  \n",
       "2   1  07:16  07:22    永春   後山埤  \n",
       "3   1  07:36  07:40   後山埤    永春  \n",
       "4   1  18:12  18:46    永寧   善導寺  "
      ]
     },
     "execution_count": 51,
     "metadata": {},
     "output_type": "execute_result"
    }
   ],
   "source": [
    "df_not = pd.read_csv(\"C:/Users/USER/Desktop/0315運具資料/不合理4.csv\") # 賸豐的檔案\n",
    "df_not.head()"
   ]
  },
  {
   "cell_type": "code",
   "execution_count": 52,
   "metadata": {},
   "outputs": [
    {
     "data": {
      "text/html": [
       "<div>\n",
       "<style scoped>\n",
       "    .dataframe tbody tr th:only-of-type {\n",
       "        vertical-align: middle;\n",
       "    }\n",
       "\n",
       "    .dataframe tbody tr th {\n",
       "        vertical-align: top;\n",
       "    }\n",
       "\n",
       "    .dataframe thead th {\n",
       "        text-align: right;\n",
       "    }\n",
       "</style>\n",
       "<table border=\"1\" class=\"dataframe\">\n",
       "  <thead>\n",
       "    <tr style=\"text-align: right;\">\n",
       "      <th></th>\n",
       "      <th>卡號</th>\n",
       "      <th>卡種</th>\n",
       "      <th>進站時間</th>\n",
       "      <th>出站時間</th>\n",
       "      <th>進站站名</th>\n",
       "      <th>出站站名</th>\n",
       "    </tr>\n",
       "  </thead>\n",
       "  <tbody>\n",
       "    <tr>\n",
       "      <th>0</th>\n",
       "      <td>0000A959F2E22684577055C745EF9729</td>\n",
       "      <td>1</td>\n",
       "      <td>18:21</td>\n",
       "      <td>18:38</td>\n",
       "      <td>台北車站</td>\n",
       "      <td>信義安和</td>\n",
       "    </tr>\n",
       "    <tr>\n",
       "      <th>1</th>\n",
       "      <td>0000A959F2E22684577055C745EF9729</td>\n",
       "      <td>1</td>\n",
       "      <td>19:05</td>\n",
       "      <td>19:23</td>\n",
       "      <td>信義安和</td>\n",
       "      <td>台北車站</td>\n",
       "    </tr>\n",
       "    <tr>\n",
       "      <th>2</th>\n",
       "      <td>0000EABB9067C31973979766C9583BAD</td>\n",
       "      <td>1</td>\n",
       "      <td>07:16</td>\n",
       "      <td>07:22</td>\n",
       "      <td>永春</td>\n",
       "      <td>後山埤</td>\n",
       "    </tr>\n",
       "    <tr>\n",
       "      <th>3</th>\n",
       "      <td>0000EABB9067C31973979766C9583BAD</td>\n",
       "      <td>1</td>\n",
       "      <td>07:36</td>\n",
       "      <td>07:40</td>\n",
       "      <td>後山埤</td>\n",
       "      <td>永春</td>\n",
       "    </tr>\n",
       "    <tr>\n",
       "      <th>4</th>\n",
       "      <td>0002D0CE4DA9D320885D30353824D5F1</td>\n",
       "      <td>1</td>\n",
       "      <td>18:12</td>\n",
       "      <td>18:46</td>\n",
       "      <td>永寧</td>\n",
       "      <td>善導寺</td>\n",
       "    </tr>\n",
       "  </tbody>\n",
       "</table>\n",
       "</div>"
      ],
      "text/plain": [
       "                                 卡號  卡種   進站時間   出站時間  進站站名  出站站名\n",
       "0  0000A959F2E22684577055C745EF9729   1  18:21  18:38  台北車站  信義安和\n",
       "1  0000A959F2E22684577055C745EF9729   1  19:05  19:23  信義安和  台北車站\n",
       "2  0000EABB9067C31973979766C9583BAD   1  07:16  07:22    永春   後山埤\n",
       "3  0000EABB9067C31973979766C9583BAD   1  07:36  07:40   後山埤    永春\n",
       "4  0002D0CE4DA9D320885D30353824D5F1   1  18:12  18:46    永寧   善導寺"
      ]
     },
     "execution_count": 52,
     "metadata": {},
     "output_type": "execute_result"
    }
   ],
   "source": [
    "df_not1 = df_not.drop(columns=['Unnamed: 0', 'Unnamed: 0.1', 'Unnamed: 0.1.1'])\n",
    "df_not1.head()"
   ]
  },
  {
   "cell_type": "code",
   "execution_count": 53,
   "metadata": {},
   "outputs": [],
   "source": [
    "df_blue['進站時間'] = [e[10::] for e in df_blue['進站時間']]\n",
    "df_blue['出站時間'] = [e[10::] for e in df_blue['出站時間']]\n",
    "df_blue = df_blue.reset_index(drop=True)"
   ]
  },
  {
   "cell_type": "code",
   "execution_count": 54,
   "metadata": {},
   "outputs": [
    {
     "data": {
      "text/html": [
       "<div>\n",
       "<style scoped>\n",
       "    .dataframe tbody tr th:only-of-type {\n",
       "        vertical-align: middle;\n",
       "    }\n",
       "\n",
       "    .dataframe tbody tr th {\n",
       "        vertical-align: top;\n",
       "    }\n",
       "\n",
       "    .dataframe thead th {\n",
       "        text-align: right;\n",
       "    }\n",
       "</style>\n",
       "<table border=\"1\" class=\"dataframe\">\n",
       "  <thead>\n",
       "    <tr style=\"text-align: right;\">\n",
       "      <th></th>\n",
       "      <th>卡號</th>\n",
       "      <th>卡種</th>\n",
       "      <th>進站時間</th>\n",
       "      <th>出站時間</th>\n",
       "      <th>進站站名</th>\n",
       "      <th>出站站名</th>\n",
       "    </tr>\n",
       "  </thead>\n",
       "  <tbody>\n",
       "    <tr>\n",
       "      <th>0</th>\n",
       "      <td>6D9590F12CBCD2066AAA34966BE2CE28</td>\n",
       "      <td>4</td>\n",
       "      <td>09:00</td>\n",
       "      <td>09:01</td>\n",
       "      <td>東湖</td>\n",
       "      <td>東湖</td>\n",
       "    </tr>\n",
       "    <tr>\n",
       "      <th>1</th>\n",
       "      <td>DA18BCEFF3AB149401A8D61E752440BB</td>\n",
       "      <td>1</td>\n",
       "      <td>09:00</td>\n",
       "      <td>09:04</td>\n",
       "      <td>土城</td>\n",
       "      <td>土城</td>\n",
       "    </tr>\n",
       "    <tr>\n",
       "      <th>2</th>\n",
       "      <td>AC4CC19B879A3095C13B0F782DAAD9F8</td>\n",
       "      <td>4</td>\n",
       "      <td>09:00</td>\n",
       "      <td>09:04</td>\n",
       "      <td>菜寮</td>\n",
       "      <td>台北橋</td>\n",
       "    </tr>\n",
       "    <tr>\n",
       "      <th>3</th>\n",
       "      <td>3F6E33625D0A37DCF3BAD948933386B9</td>\n",
       "      <td>1</td>\n",
       "      <td>09:00</td>\n",
       "      <td>09:04</td>\n",
       "      <td>新莊</td>\n",
       "      <td>輔大</td>\n",
       "    </tr>\n",
       "    <tr>\n",
       "      <th>4</th>\n",
       "      <td>76F1787603908D2A885D30353824D5F1</td>\n",
       "      <td>1</td>\n",
       "      <td>09:00</td>\n",
       "      <td>09:04</td>\n",
       "      <td>芝山</td>\n",
       "      <td>明德</td>\n",
       "    </tr>\n",
       "  </tbody>\n",
       "</table>\n",
       "</div>"
      ],
      "text/plain": [
       "                                 卡號  卡種   進站時間   出站時間 進站站名 出站站名\n",
       "0  6D9590F12CBCD2066AAA34966BE2CE28   4  09:00  09:01   東湖   東湖\n",
       "1  DA18BCEFF3AB149401A8D61E752440BB   1  09:00  09:04   土城   土城\n",
       "2  AC4CC19B879A3095C13B0F782DAAD9F8   4  09:00  09:04   菜寮  台北橋\n",
       "3  3F6E33625D0A37DCF3BAD948933386B9   1  09:00  09:04   新莊   輔大\n",
       "4  76F1787603908D2A885D30353824D5F1   1  09:00  09:04   芝山   明德"
      ]
     },
     "execution_count": 54,
     "metadata": {},
     "output_type": "execute_result"
    }
   ],
   "source": [
    "df_blue.head()"
   ]
  },
  {
   "cell_type": "code",
   "execution_count": 55,
   "metadata": {},
   "outputs": [],
   "source": [
    "t = [1]*len(d1['卡號']) + [2]*len(d2['卡號']) + [3]*len(d3['卡號']) + [4]*len(df_not1['卡號'])"
   ]
  },
  {
   "cell_type": "code",
   "execution_count": 56,
   "metadata": {},
   "outputs": [
    {
     "data": {
      "text/html": [
       "<div>\n",
       "<style scoped>\n",
       "    .dataframe tbody tr th:only-of-type {\n",
       "        vertical-align: middle;\n",
       "    }\n",
       "\n",
       "    .dataframe tbody tr th {\n",
       "        vertical-align: top;\n",
       "    }\n",
       "\n",
       "    .dataframe thead th {\n",
       "        text-align: right;\n",
       "    }\n",
       "</style>\n",
       "<table border=\"1\" class=\"dataframe\">\n",
       "  <thead>\n",
       "    <tr style=\"text-align: right;\">\n",
       "      <th></th>\n",
       "      <th>卡號</th>\n",
       "      <th>卡種</th>\n",
       "      <th>進站時間</th>\n",
       "      <th>出站時間</th>\n",
       "      <th>進站站名</th>\n",
       "      <th>出站站名</th>\n",
       "      <th>type</th>\n",
       "    </tr>\n",
       "  </thead>\n",
       "  <tbody>\n",
       "    <tr>\n",
       "      <th>0</th>\n",
       "      <td>6D9590F12CBCD2066AAA34966BE2CE28</td>\n",
       "      <td>4</td>\n",
       "      <td>09:00</td>\n",
       "      <td>09:01</td>\n",
       "      <td>東湖</td>\n",
       "      <td>東湖</td>\n",
       "      <td>1</td>\n",
       "    </tr>\n",
       "    <tr>\n",
       "      <th>1</th>\n",
       "      <td>DA18BCEFF3AB149401A8D61E752440BB</td>\n",
       "      <td>1</td>\n",
       "      <td>09:00</td>\n",
       "      <td>09:04</td>\n",
       "      <td>土城</td>\n",
       "      <td>土城</td>\n",
       "      <td>1</td>\n",
       "    </tr>\n",
       "    <tr>\n",
       "      <th>2</th>\n",
       "      <td>AC4CC19B879A3095C13B0F782DAAD9F8</td>\n",
       "      <td>4</td>\n",
       "      <td>09:00</td>\n",
       "      <td>09:04</td>\n",
       "      <td>菜寮</td>\n",
       "      <td>台北橋</td>\n",
       "      <td>1</td>\n",
       "    </tr>\n",
       "    <tr>\n",
       "      <th>3</th>\n",
       "      <td>3F6E33625D0A37DCF3BAD948933386B9</td>\n",
       "      <td>1</td>\n",
       "      <td>09:00</td>\n",
       "      <td>09:04</td>\n",
       "      <td>新莊</td>\n",
       "      <td>輔大</td>\n",
       "      <td>1</td>\n",
       "    </tr>\n",
       "    <tr>\n",
       "      <th>4</th>\n",
       "      <td>76F1787603908D2A885D30353824D5F1</td>\n",
       "      <td>1</td>\n",
       "      <td>09:00</td>\n",
       "      <td>09:04</td>\n",
       "      <td>芝山</td>\n",
       "      <td>明德</td>\n",
       "      <td>1</td>\n",
       "    </tr>\n",
       "  </tbody>\n",
       "</table>\n",
       "</div>"
      ],
      "text/plain": [
       "                                 卡號  卡種   進站時間   出站時間 進站站名 出站站名  type\n",
       "0  6D9590F12CBCD2066AAA34966BE2CE28   4  09:00  09:01   東湖   東湖     1\n",
       "1  DA18BCEFF3AB149401A8D61E752440BB   1  09:00  09:04   土城   土城     1\n",
       "2  AC4CC19B879A3095C13B0F782DAAD9F8   4  09:00  09:04   菜寮  台北橋     1\n",
       "3  3F6E33625D0A37DCF3BAD948933386B9   1  09:00  09:04   新莊   輔大     1\n",
       "4  76F1787603908D2A885D30353824D5F1   1  09:00  09:04   芝山   明德     1"
      ]
     },
     "execution_count": 56,
     "metadata": {},
     "output_type": "execute_result"
    }
   ],
   "source": [
    "df_merge = pd.concat([df_blue, df_not1])\n",
    "df_merge = df_merge.reset_index(drop=True)\n",
    "df_merge['type'] = t\n",
    "df_merge.head()"
   ]
  },
  {
   "cell_type": "code",
   "execution_count": 57,
   "metadata": {},
   "outputs": [
    {
     "data": {
      "text/plain": [
       "(695610, 7)"
      ]
     },
     "execution_count": 57,
     "metadata": {},
     "output_type": "execute_result"
    }
   ],
   "source": [
    "df_merge.shape"
   ]
  },
  {
   "cell_type": "code",
   "execution_count": 58,
   "metadata": {},
   "outputs": [],
   "source": [
    "df_merge.to_csv(\"C:/Users/USER/Desktop/0315運具資料/4個藍色禁止標誌.csv\")"
   ]
  },
  {
   "cell_type": "code",
   "execution_count": 59,
   "metadata": {},
   "outputs": [],
   "source": [
    "#df_1_del.to_csv(\"C:/Users/USER/Desktop/0315運具資料/df_1_del.csv\")"
   ]
  },
  {
   "cell_type": "code",
   "execution_count": 71,
   "metadata": {},
   "outputs": [
    {
     "data": {
      "text/plain": [
       "453671"
      ]
     },
     "execution_count": 71,
     "metadata": {},
     "output_type": "execute_result"
    }
   ],
   "source": [
    "len( Counter(dfff_1_sort['卡號']))"
   ]
  }
 ],
 "metadata": {
  "kernelspec": {
   "display_name": "Python 3",
   "language": "python",
   "name": "python3"
  },
  "language_info": {
   "codemirror_mode": {
    "name": "ipython",
    "version": 3
   },
   "file_extension": ".py",
   "mimetype": "text/x-python",
   "name": "python",
   "nbconvert_exporter": "python",
   "pygments_lexer": "ipython3",
   "version": "3.6.4"
  }
 },
 "nbformat": 4,
 "nbformat_minor": 2
}
